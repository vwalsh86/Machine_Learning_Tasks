{
 "cells": [
  {
   "cell_type": "markdown",
   "metadata": {},
   "source": [
    "# Tasks Assessments 2020\n",
    "\n",
    "***\n",
    "\n",
    "\n",
    "![Machine_Learning](ML.png)\n",
    "\n",
    "\n",
    "\n",
    "*** \n",
    "\n",
    "### Submitted by: Valerie Walsh G00364748\n",
    "### Submission Date: 8th Jan 2021\n",
    "### Course: H.Dip in Computer Science (Data Analytics)\n",
    "### Module: Machine Learning & Statistics\n",
    "### Institute: Galway-Mayo I.T.\n",
    "### Lecturer: Ian McLoughlin\n",
    "\n",
    "***\n"
   ]
  },
  {
   "cell_type": "markdown",
   "metadata": {},
   "source": [
    "### Introduction:\n",
    "\n",
    "I am using this repository to display my efforts for the Task Assessment laid out for the module 'Machine Learning & Statistics'. <br>\n",
    "I have undertaken this module as apart of my ongoing studies at GMIT for H. Dip in Data Analytics. <br>\n",
    "\n",
    "<br>\n",
    "\n",
    "The Tasks, laid out by our lecturer, have been broken down into 4 areas, I have added the assessment PDF to this repository for future reference.\n",
    "\n",
    "<ol>\n",
    "    <li> <b>October 5th, 2020:</b> Write a Python function called sqrt2 that calculates and\n",
    "prints to the screen the square root of 2 to 100 decimal places. Your code should\n",
    "not depend on any module from the standard library1 or otherwise. You should\n",
    "research the task first and include references and a description of your algorithm.</li>\n",
    "    <li><b>November 2nd, 2020:</b> The Chi-squared test for independence is a statistical\n",
    "hypothesis test like a t-test. It is used to analyse whether two categorical variables\n",
    "are independent. The Wikipedia article gives the table below as an example [4],\n",
    "stating the Chi-squared value based on it is approximately 24.6. Use scipy.stats\n",
    "to verify this value and calculate the associated p value. You should include a short\n",
    "note with references justifying your analysis in a markdown cell. </li>\n",
    "    <li><b>November 16th, 2020:</b> The standard deviation of an array of numbers x is\n",
    "calculated using numpy as np.sqrt(np.sum((x - np.mean(x))**2)/len(x)) .\n",
    "However, Microsoft Excel has two different versions of the standard deviation\n",
    "calculation, STDEV.P and STDEV.S . The STDEV.P function performs the above\n",
    "calculation but in the STDEV.S calculation the division is by len(x)-1 rather\n",
    "than len(x) . Research these Excel functions, writing a note in a Markdown cell\n",
    "about the difference between them. Then use numpy to perform a simulation\n",
    "demonstrating that the STDEV.S calculation is a better estimate for the standard\n",
    "deviation of a population when performed on a sample. Note that part of this task\n",
    "is to figure out the terminology in the previous sentence.</li>\n",
    "    <li><b>November 30th, 2020:</b> NB – when I first posted this task, I accidentally\n",
    "wrote “k-means” where I meant to write “kNN” for k Nearest Neighbours. Because of this, I will allow either algorithm to be used and have\n",
    "extended the deadline by two weeks. Use scikit-learn to apply k Nearest\n",
    "Neighbours clustering to Fisher’s famous Iris data set. You will easily obtain a\n",
    "copy of the data set online. Explain in a Markdown cell how your code works and\n",
    "how accurate it might be, and then explain how your model could be used to make\n",
    "predictions of species of iris.</li>\n",
    "</ol>\n",
    "\n",
    "***\n",
    "\n",
    "\n",
    "### Statement of Work\n",
    "This is a statement to confirm that the work submitted within this repository is my own work. Any information obtained via 3rd party as apart of my research has been referenced appropriately. I can therefore confirm that my submitted work is in line with the Quality Assurance Framework of GMIT.\n",
    "***\n",
    "\n",
    "### Technology Used\n",
    "<ul>\n",
    "    <li>Jupyter Notebook</li>\n",
    "    <li>Visual Studio Code</li>\n",
    "    <li>Anaconda Software package</li>\n",
    "    <li>Python Programming Language</li>\n",
    "    <li>Github.com</li>\n",
    "    <li>Command line interpreteter (Command Prompt)</li>\n",
    "    <li>LearnOnline / Moodle (*GMIT learning platform)</li>\n",
    "</ul>\n",
    "\n",
    "Note: I have included a more detailed explaination within my README file of how I used the above technology for this project."
   ]
  },
  {
   "cell_type": "markdown",
   "metadata": {},
   "source": [
    "***"
   ]
  },
  {
   "cell_type": "markdown",
   "metadata": {},
   "source": [
    "## Task 1: Calculate the square root of 2\n",
    " \n",
    "(Note: I had edited my Jupyter notebook Task titles to also be underlined aswell as a header but these were not displaying on Github so I removed the underline markdown i.e. \" ## <u> Task 1 ... </u> , \" did not display in output on Github)\n",
    " \n",
    "***\n",
    "\n",
    "\n",
    "![Square Root image](2.jpg)\n",
    "###### Image source: https://www.google.com/url?sa=i&url=https%3A%2F%2Fmagoosh.com%2Fmath%2Fpowers-and-roots-square-roots%2F&psig=AOvVaw1RujAC9Ah-YssUhQ1NOzWe&ust=1602502592305000&source=images&cd=vfe&ved=0CA0QjhxqFwoTCNiVnrm5rOwCFQAAAAAdAAAAABAD \n",
    "\n",
    "#### The aim of this assessment is to display an algorithm that has the ability to calculate the square root of a number without the use of the built-in functions, i.e. math.sqrt."
   ]
  },
  {
   "cell_type": "markdown",
   "metadata": {},
   "source": [
    "There is documentation on the Python documentation that explains in great detail, the process and options available of how to display the decimal output based on built in modules. - Python; 9.3 decimal - Decimal fixed point and floating point arithmetic; https://docs.python.org/2/library/decimal.html\n",
    "\n",
    "\n",
    "There are many different methods available to compute the square root of a number. I found alot of indepth information on these different options and methods, documented on on this link: https://en.wikipedia.org/wiki/Methods_of_computing_square_roots\n",
    "<br>\n",
    "\n",
    "<i>\"The method employed depends on what the result is to be used for (i.e. how accurate it has to be), how much effort one is willing to put into the procedure, and what tools are at hand.\"</i>\n",
    "<br>\n",
    "\n",
    "The method that you choose also depends on the way in which the calculations are going to be completed. Some methods can be completed mentally or via paper-and-pencil whereas others require indepth calculations by computation.\n",
    "<br>\n",
    "\n",
    "#### How float numbers are stored in memory on a computer?\n",
    "\n",
    "Having researched the aspect of how a floating point number is stored on a computer, the area is an extremely vast and complex one. \n",
    "<br>\n",
    "\n",
    "From my understanding of how the memory storage takes place, the bits are broken up into 3 areas which are used for the storage of: the sign, the mantissa and the expotent.\n",
    "<br>\n",
    "<i>\"The mantissa holds the main digits and the exponents defines where the decimal point should be placed. The same technique can be used for binary numbers.\" </i> https://en.wikibooks.org/wiki/A-level_Computing/AQA/Paper_2/Fundamentals_of_data_representation/Floating_point_numbers\n",
    "<br>\n",
    "\n",
    "The standard for Floating-Point arithmetic is set out by the IEEE (Institute of Electrical and Electronics Engineers).\n",
    "\n",
    "<i>\"The IEEE Standard for Floating-Point Arithmetic (IEEE 754) is a technical standard for floating-point arithmetic established in 1985\"</i> https://en.wikipedia.org/wiki/IEEE_754\n",
    "<br>\n",
    "Over time, there have been edits make to the standard with the latest one published and released in 2019.\n",
    "<br>\n",
    "\n",
    "<i>\"The current version, IEEE 754-2019, was published in July 2019.[1] It is a minor revision of the previous version, incorporating mainly clarifications, defect fixes and new recommended operations.\"</i> https://en.wikipedia.org/wiki/IEEE_754\n",
    "<br>\n",
    "\n",
    "In my research for this task, I have discovered that this is not the first time that this query has come about and found various threads on coding websites requesting assistance with this same task. Having read the following links, I can see that some codes are extremely indepth and of a high standard and some are in various other languages (e.g. C).\n",
    "\n",
    "* Stackoverflow - Is there a way to create more decimal points on Python without importing a library/module?: https://stackoverflow.com/questions/64278117/is-there-a-way-to-create-more-decimal-points-on-python-without-importing-a-libra \n",
    "* Stackoverflor - How to compute the digits of an irrational number one by one?:\n",
    " https://stackoverflow.com/questions/60318091/how-to-compute-the-digits-of-an-irrational-number-one-by-one \n",
    "* Stack Exchange - Can anyone explain representation of float in memory?: \n",
    "https://softwareengineering.stackexchange.com/questions/215065/can-anyone-explain-representation-of-float-in-memory#:~:text=Floating%2Dpoint%20numbers%20are%20encoded,along%20with%20a%20sign%20bit).&text=Like%20signed%20integer%20types%2C%20the,are%20used%20for%20the%20exponent \n",
    "\n",
    "\n",
    "I also researched this issue using various sites to gain a better understanding of the task:\n",
    "\n",
    "* Keil.com; Floating-point Numbers; https://www.keil.com/support/man/docs/c51/c51_ap_floatingpt.htm#:~:text=Scalars%20of%20type%20float%20are,follows%20the%20IEEE%2D754%20standard.&text=The%20mantissa%20represents%20the%20actual,of%20the%20floating%2Dpoint%20number.&text=The%20actual%20value%20of%20the,of%20%E2%80%93127%20to%20%2B128\n",
    "* Log2Base2.com; How float or double values are stored in memory? https://www.log2base2.com/storage/how-float-values-are-stored-in-memory.html \n",
    "* Floating Point Numbers; https://users.cs.fiu.edu/~downeyt/cop2400/float.htm \n"
   ]
  },
  {
   "cell_type": "code",
   "execution_count": 56,
   "metadata": {},
   "outputs": [
    {
     "data": {
      "text/plain": [
       "Decimal('1.414213562373095048801688724209698078569671875376948073176679737990732478462107038850387534327641573')"
      ]
     },
     "execution_count": 56,
     "metadata": {},
     "output_type": "execute_result"
    }
   ],
   "source": [
    "# An example of how to compute the required task using a built in-function\n",
    "# https://stackoverflow.com/questions/4733173/how-can-i-show-an-irrational-number-to-100-decimal-places-in-python\n",
    "\n",
    "from decimal import *\n",
    "getcontext().prec = 100\n",
    "Decimal(2).sqrt()"
   ]
  },
  {
   "cell_type": "code",
   "execution_count": null,
   "metadata": {},
   "outputs": [],
   "source": [
    "# Another method of setting the decimal output using a built-in function \n",
    "# https://stackoverflow.com/questions/4733173/how-can-i-show-an-irrational-number-to-100-decimal-places-in-python\n",
    "\n",
    "import gmpy2\n",
    "ctx = gmpy2.get_context()\n",
    "ctx.precision = 100\n",
    "print(gmpy2.sqrt(2))\n",
    "\n",
    "# The output however does not output 100 decimal places as requested in the function\n",
    "# whn I chose to run this function again with 200 places it also displays less than requested. \n",
    "# This could be linked to - https://docs.python.org/3.4/tutorial/floatingpoint.html"
   ]
  },
  {
   "cell_type": "code",
   "execution_count": null,
   "metadata": {},
   "outputs": [],
   "source": [
    "# https://www.programiz.com/python-programming/examples/square-root\n",
    "# Python Program to calculate the square root\n",
    "\n",
    "# Note: change this value for a different result\n",
    "num = 2\n",
    "\n",
    "# To take the input from the user\n",
    "#num = float(input('Enter a number: '))\n",
    "\n",
    "num_sqrt = num ** 0.5\n",
    "print('The square root of %0.3f is %0.3f'%(num ,num_sqrt))"
   ]
  },
  {
   "cell_type": "code",
   "execution_count": null,
   "metadata": {},
   "outputs": [],
   "source": [
    "# https://www.tutorialspoint.com/How-to-perform-square-root-without-using-math-module-in-Python\n",
    "# Example of using an expotentiation operator to gain the initial request of this task\n",
    "\n",
    "2**(1/2)"
   ]
  },
  {
   "cell_type": "code",
   "execution_count": 15,
   "metadata": {},
   "outputs": [
    {
     "ename": "SyntaxError",
     "evalue": "unexpected EOF while parsing (<ipython-input-15-03d7337e61f9>, line 15)",
     "output_type": "error",
     "traceback": [
      "\u001b[1;36m  File \u001b[1;32m\"<ipython-input-15-03d7337e61f9>\"\u001b[1;36m, line \u001b[1;32m15\u001b[0m\n\u001b[1;33m    \u001b[0m\n\u001b[1;37m    ^\u001b[0m\n\u001b[1;31mSyntaxError\u001b[0m\u001b[1;31m:\u001b[0m unexpected EOF while parsing\n"
     ]
    }
   ],
   "source": [
    "# https://web.microsoftstream.com/video/4199579c-c3ed-48b7-9c5c-2911cefff50b\n",
    "# https://www.w3schools.com/python/python_functions.asp\n",
    "# https://www.programiz.com/python-programming/examples/square-root\n",
    "# https://www.tutorialspoint.com/How-to-perform-square-root-without-using-math-module-in-Python\n",
    "\n",
    "\n",
    "def sqrt2(n):\n",
    "    return n**0.5\n",
    "\n",
    "for x in range (2, 101):\n",
    "    ##print(sqrt2(round(x, 100))\n",
    "    ## I was attempting to produce an output with rounding the result to 100 decimal places as per info on site:\n",
    "    ## https://stackoverflow.com/questions/44422918/square-root-to-2-decimal-places\n",
    "    print(format (sqrt2(x,'.2f'))      \n",
    "    \n",
    "    ## print(\"{:.100f}\".format(number))\n",
    "    ## Another alternative I tried but unable to make the code work\n",
    "          \n"
   ]
  },
  {
   "cell_type": "code",
   "execution_count": null,
   "metadata": {},
   "outputs": [],
   "source": [
    "# https://www.sololearn.com/Discuss/2228331/how-can-we-calculate-square-root-without-using-any-built-in-function-in-python\n",
    "# Example of a simple function to gain the initial request of this task (without the set decimal places)\n",
    "\n",
    "# square root\n",
    "a=int(input(\"enter no.\"))\n",
    "b=a**0.5\n",
    "print(b)"
   ]
  },
  {
   "cell_type": "markdown",
   "metadata": {},
   "source": [
    "I have made various attempts to create and set decimal places manually through the code I create rather than relying on an import function or module.\n",
    "I came across options that are not relevant in this instance:\n",
    "<ul>\n",
    "    <li> https://kodify.net/python/math/round-decimals/ </li>\n",
    "    <li> https://www.kite.com/python/answers/how-to-print-a-float-with-two-decimal-places-in-python#:~:text=Use%20str.,string%20to%20print%20the%20float. </li>\n",
    "</ul>"
   ]
  },
  {
   "cell_type": "code",
   "execution_count": 17,
   "metadata": {},
   "outputs": [
    {
     "name": "stdout",
     "output_type": "stream",
     "text": [
      "1.4142135623730950488016887242096980785696718753769480731766797379907324784621070388503875343276415727\n"
     ]
    }
   ],
   "source": [
    "## Perfect example of the code required for this task \n",
    "## https://stackoverflow.com/questions/64278117/is-there-a-way-to-create-more-decimal-points-on-python-without-importing-a-libra\n",
    "\n",
    "x = 2 * 10 ** 200\n",
    "\n",
    "r = x\n",
    "\n",
    "def test_diffs(x, r):\n",
    "    d0 = abs(x - r**2)\n",
    "    dm = abs(x - (r-1)**2)\n",
    "    dp = abs(x - (r+1)**2)\n",
    "    minimised = d0 <= dm and d0 <= dp\n",
    "    below_min = dp < dm\n",
    "    return minimised, below_min\n",
    "\n",
    "while True:\n",
    "    oldr = r\n",
    "    r = (r + x // r) // 2\n",
    "\n",
    "    minimised, below_min = test_diffs(x, r)\n",
    "    if minimised:\n",
    "        break\n",
    "\n",
    "    if r == oldr:\n",
    "        if below_min:\n",
    "            r += 1\n",
    "        else:\n",
    "            r -= 1\n",
    "        minimised, _ = test_diffs(x, r)\n",
    "        if minimised:\n",
    "            break\n",
    "\n",
    "print(f'{r // 10**100}.{r % 10**100:0100d}')"
   ]
  },
  {
   "cell_type": "markdown",
   "metadata": {},
   "source": [
    "### Conclusion:\n",
    "\n",
    "Having spent a considerable time trying to fathom how to create this code, I have learned to appreciate the ease and convenience that comes with the built-in codes and libraries that make coding such as this quite straightforward. \n",
    "There appears to be alot of attempts in the past to achieve the same task as myself, based on the results found online throughout my research. I look forward to building on my knowledge and info to date to overcome this challenge in the future while also using this as a benchmark to attempt and complete other coding without the use of built-in libraries. \n",
    "\n",
    "### References:\n",
    "<ul>\n",
    "    <li> https://www.google.com/url?sa=i&url=https%3A%2F%2Fmagoosh.com%2Fmath%2Fpowers-and-roots-square-roots%2F&psig=AOvVaw1RujAC9Ah-YssUhQ1NOzWe&ust=1602502592305000&source=images&cd=vfe&ved=0CA0QjhxqFwoTCNiVnrm5rOwCFQAAAAAdAAAAABAD</li>\n",
    "    <li>https://docs.python.org/2/library/decimal.html</li>\n",
    "    <li>https://en.wikipedia.org/wiki/Methods_of_computing_square_roots</li>\n",
    "    <li>https://en.wikibooks.org/wiki/A-level_Computing/AQA/Paper_2/Fundamentals_of_data_representation/Floating_point_numbers</li>\n",
    "    <li>https://en.wikipedia.org/wiki/IEEE_754</li>\n",
    "    <li>https://stackoverflow.com/questions/64278117/is-there-a-way-to-create-more-decimal-points-on-python-without-importing-a-libra </li>\n",
    "    <li>https://stackoverflow.com/questions/60318091/how-to-compute-the-digits-of-an-irrational-number-one-by-one</li>\n",
    "    <li>https://softwareengineering.stackexchange.com/questions/215065/can-anyone-explain-representation-of-float-in-memory#:~:text=Floating%2Dpoint%20numbers%20are%20encoded,along%20with%20a%20sign%20bit).&text=Like%20signed%20integer%20types%2C%20the,are%20used%20for%20the%20exponent</li>\n",
    "    <li>https://www.keil.com/support/man/docs/c51/c51_ap_floatingpt.htm#:~:text=Scalars%20of%20type%20float%20are,follows%20the%20IEEE%2D754%20standard.&text=The%20mantissa%20represents%20the%20actual,of%20the%20floating%2Dpoint%20number.&text=The%20actual%20value%20of%20the,of%20%E2%80%93127%20to%20%2B128</li>\n",
    "    <li>https://www.log2base2.com/storage/how-float-values-are-stored-in-memory.html</li>\n",
    "    <li>https://users.cs.fiu.edu/~downeyt/cop2400/float.htm</li>\n",
    "    <li>https://stackoverflow.com/questions/4733173/how-can-i-show-an-irrational-number-to-100-decimal-places-in-python</li>\n",
    "    <li>https://www.programiz.com/python-programming/examples/square-root\n",
    "</li>\n",
    "    <li>https://www.tutorialspoint.com/How-to-perform-square-root-without-using-math-module-in-Python</li>\n",
    "    <li>https://web.microsoftstream.com/video/4199579c-c3ed-48b7-9c5c-2911cefff50b</li>\n",
    "    <li>https://www.w3schools.com/python/python_functions.asp</li>\n",
    "    <li>https://www.programiz.com/python-programming/examples/square-root</li>\n",
    "    <li>https://www.tutorialspoint.com/How-to-perform-square-root-without-using-math-module-in-Python</li>\n",
    "    <li>https://stackoverflow.com/questions/44422918/square-root-to-2-decimal-places</li>\n",
    "    <li>https://www.sololearn.com/Discuss/2228331/how-can-we-calculate-square-root-without-using-any-built-in-function-in-python</li>\n",
    "    <li>https://kodify.net/python/math/round-decimals/</li>\n",
    "    <li>https://www.kite.com/python/answers/how-to-print-a-float-with-two-decimal-places-in-python#:~:text=Use%20str.,string%20to%20print%20the%20float.</li>\n",
    "</ul>\n",
    "\n",
    "\n",
    "***"
   ]
  },
  {
   "cell_type": "markdown",
   "metadata": {},
   "source": [
    "***\n",
    "\n",
    "***"
   ]
  },
  {
   "cell_type": "markdown",
   "metadata": {},
   "source": [
    "*** \n",
    "\n",
    "## Task 2: Chi-squared test for independence\n",
    "\n",
    "***\n",
    "\n",
    "\n",
    "![Chi_square](chi.png)\n",
    "\n",
    "***\n",
    " \n",
    " \n",
    "<br>\n",
    "\n",
    "### Background:\n",
    "\n",
    "The chi-squared test was developed during the 19th Century by Karl Pearson. Pearson identified skewness within biological observations and <i>\"developed the Pearson distribution proposing a method to model the observation and perform a test of goodness of fit to determine how well the model really fits to the observations.\"</i> https://en.wikipedia.org/wiki/Chi-squared_test\n",
    "\n",
    "The aim of the chi-squared test is to determine if there is a relation to the variables within the categories of the contingency table (also known as a crosstab).\n",
    "<br>\n",
    "\n",
    "\n",
    "![Chi-squared test table](chi-table.PNG)"
   ]
  },
  {
   "cell_type": "code",
   "execution_count": 19,
   "metadata": {},
   "outputs": [
    {
     "ename": "ValueError",
     "evalue": "arrays must all be same length",
     "output_type": "error",
     "traceback": [
      "\u001b[1;31m---------------------------------------------------------------------------\u001b[0m",
      "\u001b[1;31mValueError\u001b[0m                                Traceback (most recent call last)",
      "\u001b[1;32m<ipython-input-19-f50a9976eecb>\u001b[0m in \u001b[0;36m<module>\u001b[1;34m\u001b[0m\n\u001b[0;32m     14\u001b[0m \u001b[1;31m# https://www.kaggle.com/hamelg/python-for-data-25-chi-squared-tests\u001b[0m\u001b[1;33m\u001b[0m\u001b[1;33m\u001b[0m\u001b[1;33m\u001b[0m\u001b[0m\n\u001b[0;32m     15\u001b[0m \u001b[1;33m\u001b[0m\u001b[0m\n\u001b[1;32m---> 16\u001b[1;33m \u001b[0mdf\u001b[0m \u001b[1;33m=\u001b[0m \u001b[0mpd\u001b[0m\u001b[1;33m.\u001b[0m\u001b[0mDataFrame\u001b[0m\u001b[1;33m(\u001b[0m\u001b[1;33m{\u001b[0m\u001b[1;34m'Neighbourhood'\u001b[0m \u001b[1;33m:\u001b[0m \u001b[1;33m[\u001b[0m\u001b[1;34m'A'\u001b[0m\u001b[1;33m,\u001b[0m \u001b[1;34m'B'\u001b[0m\u001b[1;33m,\u001b[0m \u001b[1;34m'C'\u001b[0m\u001b[1;33m,\u001b[0m \u001b[1;34m'D'\u001b[0m\u001b[1;33m]\u001b[0m \u001b[1;33m*\u001b[0m \u001b[1;36m4\u001b[0m\u001b[1;33m,\u001b[0m \u001b[1;34m'Collar'\u001b[0m \u001b[1;33m:\u001b[0m \u001b[1;33m[\u001b[0m\u001b[1;34m'White'\u001b[0m\u001b[1;33m,\u001b[0m \u001b[1;34m'Blue'\u001b[0m\u001b[1;33m,\u001b[0m \u001b[1;34m'NoCollar'\u001b[0m\u001b[1;33m]\u001b[0m \u001b[1;33m*\u001b[0m \u001b[1;36m4\u001b[0m \u001b[1;33m}\u001b[0m\u001b[1;33m)\u001b[0m\u001b[1;33m\u001b[0m\u001b[1;33m\u001b[0m\u001b[0m\n\u001b[0m\u001b[0;32m     17\u001b[0m \u001b[1;33m\u001b[0m\u001b[0m\n\u001b[0;32m     18\u001b[0m \u001b[0mdf\u001b[0m\u001b[1;33m.\u001b[0m\u001b[0mhead\u001b[0m\u001b[1;33m(\u001b[0m\u001b[1;33m)\u001b[0m\u001b[1;33m\u001b[0m\u001b[1;33m\u001b[0m\u001b[0m\n",
      "\u001b[1;32m~\\anaconda3\\lib\\site-packages\\pandas\\core\\frame.py\u001b[0m in \u001b[0;36m__init__\u001b[1;34m(self, data, index, columns, dtype, copy)\u001b[0m\n\u001b[0;32m    433\u001b[0m             )\n\u001b[0;32m    434\u001b[0m         \u001b[1;32melif\u001b[0m \u001b[0misinstance\u001b[0m\u001b[1;33m(\u001b[0m\u001b[0mdata\u001b[0m\u001b[1;33m,\u001b[0m \u001b[0mdict\u001b[0m\u001b[1;33m)\u001b[0m\u001b[1;33m:\u001b[0m\u001b[1;33m\u001b[0m\u001b[1;33m\u001b[0m\u001b[0m\n\u001b[1;32m--> 435\u001b[1;33m             \u001b[0mmgr\u001b[0m \u001b[1;33m=\u001b[0m \u001b[0minit_dict\u001b[0m\u001b[1;33m(\u001b[0m\u001b[0mdata\u001b[0m\u001b[1;33m,\u001b[0m \u001b[0mindex\u001b[0m\u001b[1;33m,\u001b[0m \u001b[0mcolumns\u001b[0m\u001b[1;33m,\u001b[0m \u001b[0mdtype\u001b[0m\u001b[1;33m=\u001b[0m\u001b[0mdtype\u001b[0m\u001b[1;33m)\u001b[0m\u001b[1;33m\u001b[0m\u001b[1;33m\u001b[0m\u001b[0m\n\u001b[0m\u001b[0;32m    436\u001b[0m         \u001b[1;32melif\u001b[0m \u001b[0misinstance\u001b[0m\u001b[1;33m(\u001b[0m\u001b[0mdata\u001b[0m\u001b[1;33m,\u001b[0m \u001b[0mma\u001b[0m\u001b[1;33m.\u001b[0m\u001b[0mMaskedArray\u001b[0m\u001b[1;33m)\u001b[0m\u001b[1;33m:\u001b[0m\u001b[1;33m\u001b[0m\u001b[1;33m\u001b[0m\u001b[0m\n\u001b[0;32m    437\u001b[0m             \u001b[1;32mimport\u001b[0m \u001b[0mnumpy\u001b[0m\u001b[1;33m.\u001b[0m\u001b[0mma\u001b[0m\u001b[1;33m.\u001b[0m\u001b[0mmrecords\u001b[0m \u001b[1;32mas\u001b[0m \u001b[0mmrecords\u001b[0m\u001b[1;33m\u001b[0m\u001b[1;33m\u001b[0m\u001b[0m\n",
      "\u001b[1;32m~\\anaconda3\\lib\\site-packages\\pandas\\core\\internals\\construction.py\u001b[0m in \u001b[0;36minit_dict\u001b[1;34m(data, index, columns, dtype)\u001b[0m\n\u001b[0;32m    252\u001b[0m             \u001b[0marr\u001b[0m \u001b[1;32mif\u001b[0m \u001b[1;32mnot\u001b[0m \u001b[0mis_datetime64tz_dtype\u001b[0m\u001b[1;33m(\u001b[0m\u001b[0marr\u001b[0m\u001b[1;33m)\u001b[0m \u001b[1;32melse\u001b[0m \u001b[0marr\u001b[0m\u001b[1;33m.\u001b[0m\u001b[0mcopy\u001b[0m\u001b[1;33m(\u001b[0m\u001b[1;33m)\u001b[0m \u001b[1;32mfor\u001b[0m \u001b[0marr\u001b[0m \u001b[1;32min\u001b[0m \u001b[0marrays\u001b[0m\u001b[1;33m\u001b[0m\u001b[1;33m\u001b[0m\u001b[0m\n\u001b[0;32m    253\u001b[0m         ]\n\u001b[1;32m--> 254\u001b[1;33m     \u001b[1;32mreturn\u001b[0m \u001b[0marrays_to_mgr\u001b[0m\u001b[1;33m(\u001b[0m\u001b[0marrays\u001b[0m\u001b[1;33m,\u001b[0m \u001b[0mdata_names\u001b[0m\u001b[1;33m,\u001b[0m \u001b[0mindex\u001b[0m\u001b[1;33m,\u001b[0m \u001b[0mcolumns\u001b[0m\u001b[1;33m,\u001b[0m \u001b[0mdtype\u001b[0m\u001b[1;33m=\u001b[0m\u001b[0mdtype\u001b[0m\u001b[1;33m)\u001b[0m\u001b[1;33m\u001b[0m\u001b[1;33m\u001b[0m\u001b[0m\n\u001b[0m\u001b[0;32m    255\u001b[0m \u001b[1;33m\u001b[0m\u001b[0m\n\u001b[0;32m    256\u001b[0m \u001b[1;33m\u001b[0m\u001b[0m\n",
      "\u001b[1;32m~\\anaconda3\\lib\\site-packages\\pandas\\core\\internals\\construction.py\u001b[0m in \u001b[0;36marrays_to_mgr\u001b[1;34m(arrays, arr_names, index, columns, dtype)\u001b[0m\n\u001b[0;32m     62\u001b[0m     \u001b[1;31m# figure out the index, if necessary\u001b[0m\u001b[1;33m\u001b[0m\u001b[1;33m\u001b[0m\u001b[1;33m\u001b[0m\u001b[0m\n\u001b[0;32m     63\u001b[0m     \u001b[1;32mif\u001b[0m \u001b[0mindex\u001b[0m \u001b[1;32mis\u001b[0m \u001b[1;32mNone\u001b[0m\u001b[1;33m:\u001b[0m\u001b[1;33m\u001b[0m\u001b[1;33m\u001b[0m\u001b[0m\n\u001b[1;32m---> 64\u001b[1;33m         \u001b[0mindex\u001b[0m \u001b[1;33m=\u001b[0m \u001b[0mextract_index\u001b[0m\u001b[1;33m(\u001b[0m\u001b[0marrays\u001b[0m\u001b[1;33m)\u001b[0m\u001b[1;33m\u001b[0m\u001b[1;33m\u001b[0m\u001b[0m\n\u001b[0m\u001b[0;32m     65\u001b[0m     \u001b[1;32melse\u001b[0m\u001b[1;33m:\u001b[0m\u001b[1;33m\u001b[0m\u001b[1;33m\u001b[0m\u001b[0m\n\u001b[0;32m     66\u001b[0m         \u001b[0mindex\u001b[0m \u001b[1;33m=\u001b[0m \u001b[0mensure_index\u001b[0m\u001b[1;33m(\u001b[0m\u001b[0mindex\u001b[0m\u001b[1;33m)\u001b[0m\u001b[1;33m\u001b[0m\u001b[1;33m\u001b[0m\u001b[0m\n",
      "\u001b[1;32m~\\anaconda3\\lib\\site-packages\\pandas\\core\\internals\\construction.py\u001b[0m in \u001b[0;36mextract_index\u001b[1;34m(data)\u001b[0m\n\u001b[0;32m    363\u001b[0m             \u001b[0mlengths\u001b[0m \u001b[1;33m=\u001b[0m \u001b[0mlist\u001b[0m\u001b[1;33m(\u001b[0m\u001b[0mset\u001b[0m\u001b[1;33m(\u001b[0m\u001b[0mraw_lengths\u001b[0m\u001b[1;33m)\u001b[0m\u001b[1;33m)\u001b[0m\u001b[1;33m\u001b[0m\u001b[1;33m\u001b[0m\u001b[0m\n\u001b[0;32m    364\u001b[0m             \u001b[1;32mif\u001b[0m \u001b[0mlen\u001b[0m\u001b[1;33m(\u001b[0m\u001b[0mlengths\u001b[0m\u001b[1;33m)\u001b[0m \u001b[1;33m>\u001b[0m \u001b[1;36m1\u001b[0m\u001b[1;33m:\u001b[0m\u001b[1;33m\u001b[0m\u001b[1;33m\u001b[0m\u001b[0m\n\u001b[1;32m--> 365\u001b[1;33m                 \u001b[1;32mraise\u001b[0m \u001b[0mValueError\u001b[0m\u001b[1;33m(\u001b[0m\u001b[1;34m\"arrays must all be same length\"\u001b[0m\u001b[1;33m)\u001b[0m\u001b[1;33m\u001b[0m\u001b[1;33m\u001b[0m\u001b[0m\n\u001b[0m\u001b[0;32m    366\u001b[0m \u001b[1;33m\u001b[0m\u001b[0m\n\u001b[0;32m    367\u001b[0m             \u001b[1;32mif\u001b[0m \u001b[0mhave_dicts\u001b[0m\u001b[1;33m:\u001b[0m\u001b[1;33m\u001b[0m\u001b[1;33m\u001b[0m\u001b[0m\n",
      "\u001b[1;31mValueError\u001b[0m: arrays must all be same length"
     ]
    }
   ],
   "source": [
    "import numpy as np\n",
    "import pandas as pd\n",
    "import scipy.stats as stats\n",
    "from scipy.stats import chi2_contingency\n",
    "\n",
    "import seaborn as sns\n",
    "import matplotlib.pyplot as plt\n",
    "%matplotlib inline\n",
    "\n",
    "# load the dataset\n",
    "# df = get_data('filename').data\n",
    "# df.head()\n",
    "# https://reneshbedre.github.io/blog/chisq.html\n",
    "# https://www.kaggle.com/hamelg/python-for-data-25-chi-squared-tests\n",
    "\n",
    "df = pd.DataFrame({'Neighbourhood' : ['A', 'B', 'C', 'D'] * 4, 'Collar' : ['White', 'Blue', 'NoCollar'] * 4 })\n",
    "\n",
    "df.head()\n",
    "\n",
    "## Attempt to run using info from https://predictivehacks.com/how-to-run-chi-square-test-in-python/ failed \n",
    "## as per various errors as the dataframe I attempted to create had 4 pieces of info in 1 array and 3 in the other. \n"
   ]
  },
  {
   "cell_type": "code",
   "execution_count": 5,
   "metadata": {},
   "outputs": [
    {
     "name": "stdout",
     "output_type": "stream",
     "text": [
      "       Category    A    B    C    D  TOTAL\n",
      "0  White collar   90   60  104   95    349\n",
      "1   Blue collar   30   50   51   20    151\n",
      "2     No Collar   30   40   45   35    150\n",
      "3         Total  150  150  200  150    650\n"
     ]
    }
   ],
   "source": [
    "import numpy as np\n",
    "import pandas as pd\n",
    "import scipy.stats as stats\n",
    "from scipy.stats import chi2_contingency\n",
    "\n",
    "import seaborn as sns\n",
    "import matplotlib.pyplot as plt\n",
    "%matplotlib inline\n",
    "\n",
    "data = pd.read_csv(\"chi.csv\")\n",
    "\n",
    "print (data.head(4))\n"
   ]
  },
  {
   "cell_type": "code",
   "execution_count": 6,
   "metadata": {},
   "outputs": [
    {
     "data": {
      "text/html": [
       "<div>\n",
       "<style scoped>\n",
       "    .dataframe tbody tr th:only-of-type {\n",
       "        vertical-align: middle;\n",
       "    }\n",
       "\n",
       "    .dataframe tbody tr th {\n",
       "        vertical-align: top;\n",
       "    }\n",
       "\n",
       "    .dataframe thead th {\n",
       "        text-align: right;\n",
       "    }\n",
       "</style>\n",
       "<table border=\"1\" class=\"dataframe\">\n",
       "  <thead>\n",
       "    <tr style=\"text-align: right;\">\n",
       "      <th></th>\n",
       "      <th>A</th>\n",
       "      <th>B</th>\n",
       "      <th>C</th>\n",
       "      <th>D</th>\n",
       "      <th>TOTAL</th>\n",
       "    </tr>\n",
       "  </thead>\n",
       "  <tbody>\n",
       "    <tr>\n",
       "      <th>count</th>\n",
       "      <td>4.000000</td>\n",
       "      <td>4.000000</td>\n",
       "      <td>4.000000</td>\n",
       "      <td>4.000000</td>\n",
       "      <td>4.000000</td>\n",
       "    </tr>\n",
       "    <tr>\n",
       "      <th>mean</th>\n",
       "      <td>75.000000</td>\n",
       "      <td>75.000000</td>\n",
       "      <td>100.000000</td>\n",
       "      <td>75.000000</td>\n",
       "      <td>325.000000</td>\n",
       "    </tr>\n",
       "    <tr>\n",
       "      <th>std</th>\n",
       "      <td>57.445626</td>\n",
       "      <td>50.662281</td>\n",
       "      <td>71.744919</td>\n",
       "      <td>59.581876</td>\n",
       "      <td>236.009887</td>\n",
       "    </tr>\n",
       "    <tr>\n",
       "      <th>min</th>\n",
       "      <td>30.000000</td>\n",
       "      <td>40.000000</td>\n",
       "      <td>45.000000</td>\n",
       "      <td>20.000000</td>\n",
       "      <td>150.000000</td>\n",
       "    </tr>\n",
       "    <tr>\n",
       "      <th>25%</th>\n",
       "      <td>30.000000</td>\n",
       "      <td>47.500000</td>\n",
       "      <td>49.500000</td>\n",
       "      <td>31.250000</td>\n",
       "      <td>150.750000</td>\n",
       "    </tr>\n",
       "    <tr>\n",
       "      <th>50%</th>\n",
       "      <td>60.000000</td>\n",
       "      <td>55.000000</td>\n",
       "      <td>77.500000</td>\n",
       "      <td>65.000000</td>\n",
       "      <td>250.000000</td>\n",
       "    </tr>\n",
       "    <tr>\n",
       "      <th>75%</th>\n",
       "      <td>105.000000</td>\n",
       "      <td>82.500000</td>\n",
       "      <td>128.000000</td>\n",
       "      <td>108.750000</td>\n",
       "      <td>424.250000</td>\n",
       "    </tr>\n",
       "    <tr>\n",
       "      <th>max</th>\n",
       "      <td>150.000000</td>\n",
       "      <td>150.000000</td>\n",
       "      <td>200.000000</td>\n",
       "      <td>150.000000</td>\n",
       "      <td>650.000000</td>\n",
       "    </tr>\n",
       "  </tbody>\n",
       "</table>\n",
       "</div>"
      ],
      "text/plain": [
       "                A           B           C           D       TOTAL\n",
       "count    4.000000    4.000000    4.000000    4.000000    4.000000\n",
       "mean    75.000000   75.000000  100.000000   75.000000  325.000000\n",
       "std     57.445626   50.662281   71.744919   59.581876  236.009887\n",
       "min     30.000000   40.000000   45.000000   20.000000  150.000000\n",
       "25%     30.000000   47.500000   49.500000   31.250000  150.750000\n",
       "50%     60.000000   55.000000   77.500000   65.000000  250.000000\n",
       "75%    105.000000   82.500000  128.000000  108.750000  424.250000\n",
       "max    150.000000  150.000000  200.000000  150.000000  650.000000"
      ]
     },
     "execution_count": 6,
     "metadata": {},
     "output_type": "execute_result"
    }
   ],
   "source": [
    "data.describe()"
   ]
  },
  {
   "cell_type": "code",
   "execution_count": 7,
   "metadata": {},
   "outputs": [
    {
     "name": "stdout",
     "output_type": "stream",
     "text": [
      "<class 'pandas.core.frame.DataFrame'>\n",
      "RangeIndex: 4 entries, 0 to 3\n",
      "Data columns (total 6 columns):\n",
      " #   Column    Non-Null Count  Dtype \n",
      "---  ------    --------------  ----- \n",
      " 0   Category  4 non-null      object\n",
      " 1   A         4 non-null      int64 \n",
      " 2   B         4 non-null      int64 \n",
      " 3   C         4 non-null      int64 \n",
      " 4   D         4 non-null      int64 \n",
      " 5   TOTAL     4 non-null      int64 \n",
      "dtypes: int64(5), object(1)\n",
      "memory usage: 320.0+ bytes\n"
     ]
    }
   ],
   "source": [
    "data.info()"
   ]
  },
  {
   "cell_type": "code",
   "execution_count": 8,
   "metadata": {},
   "outputs": [
    {
     "data": {
      "text/plain": [
       "Category    object\n",
       "A            int64\n",
       "B            int64\n",
       "C            int64\n",
       "D            int64\n",
       "TOTAL        int64\n",
       "dtype: object"
      ]
     },
     "execution_count": 8,
     "metadata": {},
     "output_type": "execute_result"
    }
   ],
   "source": [
    "data.dtypes"
   ]
  },
  {
   "cell_type": "code",
   "execution_count": 12,
   "metadata": {},
   "outputs": [
    {
     "ename": "TypeError",
     "evalue": "'<' not supported between instances of 'numpy.ndarray' and 'int'",
     "output_type": "error",
     "traceback": [
      "\u001b[1;31m---------------------------------------------------------------------------\u001b[0m",
      "\u001b[1;31mTypeError\u001b[0m                                 Traceback (most recent call last)",
      "\u001b[1;32m<ipython-input-12-5eae0dc74260>\u001b[0m in \u001b[0;36m<module>\u001b[1;34m\u001b[0m\n\u001b[0;32m      3\u001b[0m \u001b[1;32mfrom\u001b[0m \u001b[0mscipy\u001b[0m\u001b[1;33m.\u001b[0m\u001b[0mstats\u001b[0m \u001b[1;32mimport\u001b[0m \u001b[0mchi2_contingency\u001b[0m\u001b[1;33m\u001b[0m\u001b[1;33m\u001b[0m\u001b[0m\n\u001b[0;32m      4\u001b[0m \u001b[0mobs\u001b[0m \u001b[1;33m=\u001b[0m \u001b[0mnp\u001b[0m\u001b[1;33m.\u001b[0m\u001b[0marray\u001b[0m\u001b[1;33m(\u001b[0m\u001b[1;34m\"chi.csv\"\u001b[0m\u001b[1;33m)\u001b[0m\u001b[1;33m\u001b[0m\u001b[1;33m\u001b[0m\u001b[0m\n\u001b[1;32m----> 5\u001b[1;33m \u001b[0mchi2_contingency\u001b[0m\u001b[1;33m(\u001b[0m\u001b[0mobs\u001b[0m\u001b[1;33m)\u001b[0m\u001b[1;33m\u001b[0m\u001b[1;33m\u001b[0m\u001b[0m\n\u001b[0m\u001b[0;32m      6\u001b[0m \u001b[1;33m\u001b[0m\u001b[0m\n\u001b[0;32m      7\u001b[0m \u001b[1;31m## https://www.kaggle.com/jfeng1023/beginner-data-challenge-chi-square-test\u001b[0m\u001b[1;33m\u001b[0m\u001b[1;33m\u001b[0m\u001b[1;33m\u001b[0m\u001b[0m\n",
      "\u001b[1;32m~\\anaconda3\\lib\\site-packages\\scipy\\stats\\contingency.py\u001b[0m in \u001b[0;36mchi2_contingency\u001b[1;34m(observed, correction, lambda_)\u001b[0m\n\u001b[0;32m    240\u001b[0m     \"\"\"\n\u001b[0;32m    241\u001b[0m     \u001b[0mobserved\u001b[0m \u001b[1;33m=\u001b[0m \u001b[0mnp\u001b[0m\u001b[1;33m.\u001b[0m\u001b[0masarray\u001b[0m\u001b[1;33m(\u001b[0m\u001b[0mobserved\u001b[0m\u001b[1;33m)\u001b[0m\u001b[1;33m\u001b[0m\u001b[1;33m\u001b[0m\u001b[0m\n\u001b[1;32m--> 242\u001b[1;33m     \u001b[1;32mif\u001b[0m \u001b[0mnp\u001b[0m\u001b[1;33m.\u001b[0m\u001b[0many\u001b[0m\u001b[1;33m(\u001b[0m\u001b[0mobserved\u001b[0m \u001b[1;33m<\u001b[0m \u001b[1;36m0\u001b[0m\u001b[1;33m)\u001b[0m\u001b[1;33m:\u001b[0m\u001b[1;33m\u001b[0m\u001b[1;33m\u001b[0m\u001b[0m\n\u001b[0m\u001b[0;32m    243\u001b[0m         \u001b[1;32mraise\u001b[0m \u001b[0mValueError\u001b[0m\u001b[1;33m(\u001b[0m\u001b[1;34m\"All values in `observed` must be nonnegative.\"\u001b[0m\u001b[1;33m)\u001b[0m\u001b[1;33m\u001b[0m\u001b[1;33m\u001b[0m\u001b[0m\n\u001b[0;32m    244\u001b[0m     \u001b[1;32mif\u001b[0m \u001b[0mobserved\u001b[0m\u001b[1;33m.\u001b[0m\u001b[0msize\u001b[0m \u001b[1;33m==\u001b[0m \u001b[1;36m0\u001b[0m\u001b[1;33m:\u001b[0m\u001b[1;33m\u001b[0m\u001b[1;33m\u001b[0m\u001b[0m\n",
      "\u001b[1;31mTypeError\u001b[0m: '<' not supported between instances of 'numpy.ndarray' and 'int'"
     ]
    }
   ],
   "source": [
    "pd.read_csv(\"chi.csv\")\n",
    "\n",
    "from scipy.stats import chi2_contingency\n",
    "obs = np.array(\"chi.csv\")\n",
    "chi2_contingency(obs)\n",
    "\n",
    "## https://www.kaggle.com/jfeng1023/beginner-data-challenge-chi-square-test\n"
   ]
  },
  {
   "cell_type": "code",
   "execution_count": 18,
   "metadata": {},
   "outputs": [
    {
     "data": {
      "text/plain": [
       "1.8086220862906192e-07"
      ]
     },
     "execution_count": 18,
     "metadata": {},
     "output_type": "execute_result"
    }
   ],
   "source": [
    "# https://reneshbedre.github.io/blog/chisq.html\n",
    "# https://stackoverflow.com/questions/11725115/p-value-from-chi-sq-test-statistic-in-python\n",
    "\n",
    "from scipy.stats.distributions import chi2\n",
    "chi2.sf(24.6, 0.5)"
   ]
  },
  {
   "cell_type": "markdown",
   "metadata": {},
   "source": [
    "##### Automated calculator for chi square\n",
    "Calculate the chi square test output of 24.6 <br>\n",
    "https://www.socscistatistics.com/tests/chisquare2/default2.aspx\n",
    "During my research, I discovered a website that allows you to manually enter the information of the data and the site will then calculate the chi-square using its algorithm. <br>\n",
    "The calculation that the website outputted was correct as per the task information provided in the assessment information. <br>\n",
    "\n",
    "![Chi-square calculator](sample_p.PNG)\n",
    "\n"
   ]
  },
  {
   "cell_type": "markdown",
   "metadata": {},
   "source": [
    "### Conclusion:\n",
    "\n",
    "I found this task tough in relation to locating information online for assisting with trying to use the provided table of data for the task.\n",
    "Any info for feeding in data manually required the same number of entries in each array whereas we had 4 population areas and 3 different collar options. \n",
    "Also when trying to create a contingency table, the data is usually fed in manually based on the info I found during my research, versus reading in a csv file.\n",
    "I chose to read in the data via a CSV file which I created in Excel which allowed me to produce some output of data. \n",
    "<br>\n",
    "I believe that there is so much more to this task that could be explored in more depth if time contraints were not an issue. I believe that even with a small amount of data in the CSV file, the chi square test can produce quite alot of data and output that can be easily discussed and contrasted to compare the likelyhood of expectancies from the test. \n",
    "<br>\n",
    "The test itself is to determine whether there is <i> \"a statistically significant difference between the expected frequencies and the observed frequencies in one or more categories of a contingency table.\"</i> https://en.wikipedia.org/wiki/Chi-squared_test\n",
    "    \n",
    "### References:\n",
    "\n",
    "<ul>\n",
    "    <li>https://en.wikipedia.org/wiki/Chi-squared_test</li>\n",
    "    <li>https://docs.scipy.org/doc/scipy/reference/generated/scipy.stats.chisquare.html</li>\n",
    "    <li>https://reneshbedre.github.io/blog/chisq.html</li>\n",
    "    <li>https://www.kaggle.com/hamelg/python-for-data-25-chi-squared-tests</li>\n",
    "    <li>https://predictivehacks.com/how-to-run-chi-square-test-in-python/</li>\n",
    "    <li>https://www.kaggle.com/jfeng1023/beginner-data-challenge-chi-square-test</li>\n",
    "    <li>https://reneshbedre.github.io/blog/chisq.html</li>\n",
    "    <li>https://stackoverflow.com/questions/11725115/p-value-from-chi-sq-test-statistic-in-python</li>\n",
    "    <li>https://www.socscistatistics.com/tests/chisquare2/default2.aspx</li>\n",
    "</ul>\n"
   ]
  },
  {
   "cell_type": "markdown",
   "metadata": {},
   "source": [
    "***\n",
    "\n",
    "***\n",
    "***"
   ]
  },
  {
   "cell_type": "markdown",
   "metadata": {},
   "source": [
    "## Task 3: Difference between the Excel functions: STDEV.S and STDEV.P\n",
    "\n",
    "<br>\n",
    "\n",
    "***\n",
    "***\n",
    "\n",
    "![STDEV_image](stdev2.png)\n",
    "\n",
    "\n",
    "***\n",
    "<br>\n",
    "\n",
    "<br>\n",
    "\n",
    "**<i>\"The standard deviation is a measure that indicates how much the values of the set of data deviate (spread out) from the mean. To put it differently, the standard deviation shows whether your data is close to the mean or fluctuates a lot.\"**</i> [1] \n",
    "\n",
    "<ul>\n",
    "    <li> Based on the above explaination, the lower that the standard deviation is or the closer it is to 0, the more reliable the mean is. </li>\n",
    "    <li> If the standard deviation equals to 0 exactly, this result would mean that every element in the data set is the same as its mean. </li>\n",
    "    <li> The higher the standard deviation, the more fluctuation there is within the data, thus resulting in the mean being less accurate. </li>\n",
    "</ul>\n",
    "\n",
    "<br>\n",
    "<br>\n",
    "\n",
    "\n",
    "## What is the main difference between STDEV.S and STDEV.P?\n",
    "\n",
    "The STDEV.S function is used to calculate the standard deviation of a sample where only a subset of the data is included. <br>\n",
    "The STDEV.P function is used to calculate the standard deviation of a population which includes all elements of a data set.\n",
    "\n",
    "![STDEV formulas](STDEV.PNG)\n",
    "\n",
    "\n",
    "### STDEV.S Function\n",
    "\n",
    "The STDEV.S function was introduced in Excel 2010 as an improvement on its predecessor, the STDEV function. <br>\n",
    "STDEV (now an outdated function) was introduced in Excel 2003 and is the oldest Excel function used to estimate the standard deviation of a sample. \n",
    "\n",
    "The method to obtain the deviation of the sample standard deviation differs from the population standard deviation because you minus 1 from the total squared differences. \n",
    "The explaination of why this is the case as per [1] is, <strong>\"you need to correct the bias in the estimation of a sample mean instead of the true population mean. This is also referred to as the Bessel's correction.\"</strong>\n",
    "\n",
    "<br>\n",
    "\n",
    "\n",
    "### STDEV.P Function\n",
    "\n",
    "Similar to STDEV.S, the STDEV.P function was introduced in Excel 2010 as the modern version of the STDEVP function. It is reported to provide improved accuracy and it is available in Excel 2010 and later versions. <br>\n",
    "The STDEV.P function <strong>\"calculates standard deviation using the \"n\" method, ignoring logical values and text.\"</strong> [2]\n",
    "\n",
    "<br>\n",
    "\n",
    "![STDEV differences](stdev-table.PNG)\n",
    "\n",
    "<br>\n",
    "\n",
    "\n",
    "### A simplified guide of how to calculate the standard deviation:\n",
    "\n",
    "<ol>\n",
    "    <li>Calculate the mean of all values in the data set</li>\n",
    "    <li>Subtract the mean from each number and square the result</li>\n",
    "    <li>Add up squared differences</li>\n",
    "    <li>Divide the total squared differences by the count of values</li>\n",
    "    <li>Calculate the square root of the number obtained in previous step</li> \n",
    "</ol>\n"
   ]
  },
  {
   "cell_type": "code",
   "execution_count": 29,
   "metadata": {},
   "outputs": [
    {
     "name": "stdout",
     "output_type": "stream",
     "text": [
      "      NAME  MOODLE RESULT                            .1\n",
      "0     Alex             71        Population SD  13.1053\n",
      "1     John             82            Sample SD  9.13053\n",
      "2     Mary             70                              \n",
      "3      Dan             62                              \n",
      "4    Ralph             78                              \n",
      "5      Bob             58                              \n",
      "6   Darren             49                              \n",
      "7    Sarah             76                              \n",
      "8    Ciara             82                              \n",
      "9     Mark             45                              \n",
      "10    Sean             51                              \n",
      "11  Sandra             50                              \n"
     ]
    }
   ],
   "source": [
    "# https://datatofish.com/read_excel/\n",
    "\n",
    "\n",
    "import pandas as pd\n",
    "\n",
    "df = pd.read_excel (r'C:\\Users\\valer\\Desktop\\Tasks.repo\\Machine_Learning_Tasks\\STDEV.xlsx')\n",
    "print (df)\n",
    "\n",
    "# I created a sample file within Excel to use for this task\n",
    "# To calculate the Population SD I used the following formula in Excel: =STDEV.P(B2:B13)\n",
    "# To calculate the Sample SD I used the following formula in Excel: =STDEV.S(B2:B7)"
   ]
  },
  {
   "cell_type": "code",
   "execution_count": 15,
   "metadata": {},
   "outputs": [
    {
     "name": "stdout",
     "output_type": "stream",
     "text": [
      "8.334999833366657\n",
      "8.334999833366657\n",
      "8.334999833366657\n"
     ]
    }
   ],
   "source": [
    "# https://www.codegrepper.com/code-examples/python/numpy+STDEV.S\n",
    "\n",
    "# The following code shows the calculation of the standard deviation of a population\n",
    "# But it does not calculate accurately for a sample size\n",
    "# I chose to use the same figures within the data I used in the Excel file so as to allow ease of comparison of results\n",
    "\n",
    "import numpy as np\n",
    "data = [71,82,70,62,78,58]\n",
    "data_std = np.std(data)\n",
    "print(data_std)\n",
    "\n",
    "# Another 2 code examples from the same site of calculating the standard deviation using numpy which outputs the same result as the above code.\n",
    "\n",
    "import numpy as np\n",
    "values=[71,82,70,62,78,58]\n",
    "print(np.std(values))\n",
    "\n",
    "values=[71,82,70,62,78,58,np.nan]\n",
    "print(np.nanstd(values))"
   ]
  },
  {
   "cell_type": "code",
   "execution_count": 31,
   "metadata": {},
   "outputs": [
    {
     "data": {
      "text/plain": [
       "8.334999833366657"
      ]
     },
     "execution_count": 31,
     "metadata": {},
     "output_type": "execute_result"
    }
   ],
   "source": [
    "# The same result is seen using this code as the above. Both seem to calculate the standard deviation of a population with no\n",
    "# reference to considering the standard deviation of a sample.\n",
    "# https://stackoverflow.com/questions/34050491/standard-deviation-in-numpy\n",
    "\n",
    "np.std([71,82,70,62,78,58])"
   ]
  },
  {
   "cell_type": "code",
   "execution_count": 33,
   "metadata": {},
   "outputs": [
    {
     "data": {
      "text/plain": [
       "13.105342422081156"
      ]
     },
     "execution_count": 33,
     "metadata": {},
     "output_type": "execute_result"
    }
   ],
   "source": [
    "# When I use the same code for the full dataset it calculates the standard deviation of the population accurately.\n",
    "\n",
    "np.std([71,82,70,62,78,58,49,76,82,45,51,50])"
   ]
  },
  {
   "cell_type": "code",
   "execution_count": 34,
   "metadata": {},
   "outputs": [
    {
     "name": "stdout",
     "output_type": "stream",
     "text": [
      "13.105342422081156\n"
     ]
    }
   ],
   "source": [
    "import numpy as np\n",
    "values=[71,82,70,62,78,58,49,76,82,45,51,50]\n",
    "print(np.std(values))"
   ]
  },
  {
   "cell_type": "code",
   "execution_count": 12,
   "metadata": {},
   "outputs": [
    {
     "data": {
      "text/plain": [
       "9.130534851073438"
      ]
     },
     "execution_count": 12,
     "metadata": {},
     "output_type": "execute_result"
    }
   ],
   "source": [
    "# https://honingds.com/blog/python-standard-deviation/\n",
    "# https://stackoverflow.com/questions/34050491/standard-deviation-in-numpy\n",
    "\n",
    "# I calculated the standard deviation of the sample data using the ddof parameter in the code and this produces the same output\n",
    "# as the Excel formula STDEV.S\n",
    "\n",
    "np.std([71,82,70,62,78,58], ddof=1)"
   ]
  },
  {
   "cell_type": "code",
   "execution_count": 19,
   "metadata": {},
   "outputs": [
    {
     "data": {
      "text/plain": [
       "13.105342422081156"
      ]
     },
     "execution_count": 19,
     "metadata": {},
     "output_type": "execute_result"
    }
   ],
   "source": [
    "x = [71,82,70,62,78,58,49,76,82,45,51,50]\n",
    "np.sqrt(np.sum((x - np.mean(x))**2)/len(x))"
   ]
  },
  {
   "cell_type": "code",
   "execution_count": 36,
   "metadata": {},
   "outputs": [
    {
     "data": {
      "text/plain": [
       "8.274794391537606"
      ]
     },
     "execution_count": 36,
     "metadata": {},
     "output_type": "execute_result"
    }
   ],
   "source": [
    "# When I use the numpy formula for the sample data set, the output produced is different to Excel result\n",
    "\n",
    "x = [71,82,70,62,78,58]\n",
    "np.sqrt(np.sum((x - np.mean(x))**2)/len(x)-1)"
   ]
  },
  {
   "cell_type": "markdown",
   "metadata": {},
   "source": [
    "<Br>\n",
    " \n",
    "***\n",
    "\n",
    "\n",
    "### Conclusion:\n",
    "\n",
    "Based on my research for this task along with the results observed from the above calculations, I am of the opinion that the Excel formula \"STDEV.S\" is a more accurate and reliable method to calculate the standard deviation of a sample from a dataset. <br>\n",
    "The formula used within the Excel application is an improvement on a previously\n",
    "\n",
    "When I calculated the sample standard deviation using np.std with the ddof parameter, the result was accurate and matched the Excel output of STDEV.S. However the parameter needed to be inserted in order for the formula to make the assumption to allow for the reduction of the mean. <br>\n",
    "Seperately to the computer science side of this task, I came across an article that stated a relatively easy explaination of how to estimate standard deviation. <br> <br>\n",
    "<strong><i>\"The range rule tells us that the standard deviation of a sample is approximately equal to one-fourth of the range of the data.\"</strong></i> [8] <br> <br>\n",
    "I have not yet explored this aspect of the research further but it is certainly an interesting opinion.\n",
    "    \n",
    "***\n",
    "\n",
    "### References:\n",
    "\n",
    "<ul>\n",
    "    <li>https://m.blog.naver.com/chjw109/221846383210</li>\n",
    "    <li>https://www.ablebits.com/office-addins-blog/2017/05/31/calculate-standard-deviation-excel/</li>\n",
    "    <li>https://exceljet.net/excel-functions/excel-stdev.p-function#:~:text=The%20STDEV.,deviation%20for%20an%20entire%20population.</li>\n",
    "    <li>https://corporatefinanceinstitute.com/resources/excel/functions/stdev-function/#:~:text=The%20STDEV%20Function%20is%20categorized,deviation%20based%20on%20a%20sample.</li>\n",
    "    <li>https://datatofish.com/read_excel/</li>\n",
    "    <li>https://www.codegrepper.com/code-examples/python/numpy+STDEV.S</li>\n",
    "    <li>https://stackoverflow.com/questions/34050491/standard-deviation-in-numpy</li>\n",
    "    <li>https://honingds.com/blog/python-standard-deviation/</li>\n",
    "    <li>https://www.thoughtco.com/range-rule-for-standard-deviation-3126231#:~:text=The%20range%20rule%20tells%20us,estimate%20of%20the%20standard%20deviation.</li>\n",
    "</ul>\n",
    "\n",
    "***\n",
    "***"
   ]
  },
  {
   "cell_type": "markdown",
   "metadata": {},
   "source": [
    "## Task 4: Use scikit-learn to apply k-means clustering to Fisher’s famous Iris data set\n",
    "\n",
    "![Iris_image](iris.PNG)\n",
    "\n",
    "### Background:\n",
    "\n",
    "The dataset used for this task is one created by R.A Fishera that relates to 3 different species of Iris flowers and four measurements relating to the length and width of the sepals and petals. <br>\n",
    "The dataset is made up of 150 observations, consisting of 3 varieties of the Iris flower, with the measurements making up the:\n",
    "<ul>\n",
    "    <li>Sepal Length</li>\n",
    "    <li>Sepal Width</li>\n",
    "    <li>Petal Length</li>\n",
    "    <li>Petal Width</li>\n",
    "</ul>\n",
    "\n",
    "\n",
    "Further information relating to the existence of the dataset can be reviewed here: https://en.wikipedia.org/wiki/Iris_flower_data_set\n",
    "\n",
    "\n",
    "#### What is Clustering?\n",
    "\n",
    "Clustering refers to the grouping together of a collection of data points based on certain similarities which allows to identify any potential underlying patterns.\n",
    "K-means is used to look for any clusters that may exist within a dataset. \n",
    "\n",
    "\n",
    "<i>\"K-means clustering is one of the simplest and popular unsupervised machine learning algorithms.\n",
    "Typically, unsupervised algorithms make inferences from datasets using only input vectors without referring to known, or labelled, outcomes.\"</i> https://towardsdatascience.com/understanding-k-means-clustering-in-machine-learning-6a6e67336aa1\n",
    "\n",
    "### How the process of K-Means Clustering works?\n",
    "\n",
    "![KMeans_explaination](KMeans-explaination.PNG)\n",
    "\n",
    "As per the included image, the steps relating to the process of this method are as follows:\n",
    "<ul>\n",
    "    <li> K means are randomly generated within the data domain</li>\n",
    "    <li> K Clusters are created by linking / associating each observation with the nearest mean.</li>\n",
    "    <li> The <i>centroid</i> of each k cluster then becomes the new mean.</li>\n",
    "    <li> Steps 2 and 3 are repeated until the point of <i>convergence</i> is achieved.</li>\n",
    "</ul>\n",
    "\n",
    "\n",
    "*** \n",
    "\n",
    "### Research:"
   ]
  },
  {
   "cell_type": "code",
   "execution_count": 5,
   "metadata": {},
   "outputs": [
    {
     "name": "stdout",
     "output_type": "stream",
     "text": [
      "   sepal.length  sepal.width  petal.length  petal.width variety\n",
      "0           5.1          3.5           1.4          0.2  Setosa\n",
      "1           4.9          3.0           1.4          0.2  Setosa\n",
      "2           4.7          3.2           1.3          0.2  Setosa\n",
      "3           4.6          3.1           1.5          0.2  Setosa\n",
      "4           5.0          3.6           1.4          0.2  Setosa\n",
      "5           5.4          3.9           1.7          0.4  Setosa\n"
     ]
    }
   ],
   "source": [
    "# A sample view of the first few lines of the data in the CSV file\n",
    "\n",
    "# Imported for usage with numerical arrays\n",
    "import numpy as np\n",
    "\n",
    "# Imported for usage with reading in CSV file\n",
    "import pandas as pd\n",
    "\n",
    "#Import full package for Machine Learning i.e. K-Means usage\n",
    "import sklearn.cluster as skcl\n",
    "\n",
    "# Imported for plotting\n",
    "import matplotlib.pyplot as plt\n",
    "\n",
    "data = pd.read_csv(\"iris.csv\")\n",
    "print(data.head(6))"
   ]
  },
  {
   "cell_type": "code",
   "execution_count": 7,
   "metadata": {},
   "outputs": [
    {
     "data": {
      "text/html": [
       "<div>\n",
       "<style scoped>\n",
       "    .dataframe tbody tr th:only-of-type {\n",
       "        vertical-align: middle;\n",
       "    }\n",
       "\n",
       "    .dataframe tbody tr th {\n",
       "        vertical-align: top;\n",
       "    }\n",
       "\n",
       "    .dataframe thead th {\n",
       "        text-align: right;\n",
       "    }\n",
       "</style>\n",
       "<table border=\"1\" class=\"dataframe\">\n",
       "  <thead>\n",
       "    <tr style=\"text-align: right;\">\n",
       "      <th></th>\n",
       "      <th>sepal.length</th>\n",
       "      <th>sepal.width</th>\n",
       "      <th>petal.length</th>\n",
       "      <th>petal.width</th>\n",
       "    </tr>\n",
       "  </thead>\n",
       "  <tbody>\n",
       "    <tr>\n",
       "      <th>0</th>\n",
       "      <td>5.1</td>\n",
       "      <td>3.5</td>\n",
       "      <td>1.4</td>\n",
       "      <td>0.2</td>\n",
       "    </tr>\n",
       "    <tr>\n",
       "      <th>1</th>\n",
       "      <td>4.9</td>\n",
       "      <td>3.0</td>\n",
       "      <td>1.4</td>\n",
       "      <td>0.2</td>\n",
       "    </tr>\n",
       "    <tr>\n",
       "      <th>2</th>\n",
       "      <td>4.7</td>\n",
       "      <td>3.2</td>\n",
       "      <td>1.3</td>\n",
       "      <td>0.2</td>\n",
       "    </tr>\n",
       "    <tr>\n",
       "      <th>3</th>\n",
       "      <td>4.6</td>\n",
       "      <td>3.1</td>\n",
       "      <td>1.5</td>\n",
       "      <td>0.2</td>\n",
       "    </tr>\n",
       "    <tr>\n",
       "      <th>4</th>\n",
       "      <td>5.0</td>\n",
       "      <td>3.6</td>\n",
       "      <td>1.4</td>\n",
       "      <td>0.2</td>\n",
       "    </tr>\n",
       "    <tr>\n",
       "      <th>5</th>\n",
       "      <td>5.4</td>\n",
       "      <td>3.9</td>\n",
       "      <td>1.7</td>\n",
       "      <td>0.4</td>\n",
       "    </tr>\n",
       "  </tbody>\n",
       "</table>\n",
       "</div>"
      ],
      "text/plain": [
       "   sepal.length  sepal.width  petal.length  petal.width\n",
       "0           5.1          3.5           1.4          0.2\n",
       "1           4.9          3.0           1.4          0.2\n",
       "2           4.7          3.2           1.3          0.2\n",
       "3           4.6          3.1           1.5          0.2\n",
       "4           5.0          3.6           1.4          0.2\n",
       "5           5.4          3.9           1.7          0.4"
      ]
     },
     "execution_count": 7,
     "metadata": {},
     "output_type": "execute_result"
    }
   ],
   "source": [
    "# Choosing to drop the variety column in the CSV file so we are only dealing with data\n",
    "# https://pandas.pydata.org/pandas-docs/stable/reference/api/pandas.DataFrame.drop.html\n",
    "\n",
    "iris = data.drop('variety', 1)\n",
    "iris.head(6)"
   ]
  },
  {
   "cell_type": "code",
   "execution_count": 17,
   "metadata": {},
   "outputs": [
    {
     "data": {
      "text/plain": [
       "array([1, 1, 1, 1, 1, 1, 1, 1, 1, 1, 1, 1, 1, 1, 1, 1, 1, 1, 1, 1, 1, 1,\n",
       "       1, 1, 1, 1, 1, 1, 1, 1, 1, 1, 1, 1, 1, 1, 1, 1, 1, 1, 1, 1, 1, 1,\n",
       "       1, 1, 1, 1, 1, 1, 2, 2, 0, 2, 2, 2, 2, 2, 2, 2, 2, 2, 2, 2, 2, 2,\n",
       "       2, 2, 2, 2, 2, 2, 2, 2, 2, 2, 2, 0, 2, 2, 2, 2, 2, 2, 2, 2, 2, 2,\n",
       "       2, 2, 2, 2, 2, 2, 2, 2, 2, 2, 2, 2, 0, 2, 0, 0, 0, 0, 2, 0, 0, 0,\n",
       "       0, 0, 0, 2, 2, 0, 0, 0, 0, 2, 0, 2, 0, 2, 0, 0, 2, 2, 0, 0, 0, 0,\n",
       "       0, 2, 0, 0, 0, 0, 2, 0, 0, 0, 2, 0, 0, 0, 2, 0, 0, 2])"
      ]
     },
     "execution_count": 17,
     "metadata": {},
     "output_type": "execute_result"
    }
   ],
   "source": [
    "# Setting the kmeans to allocating the output into 3 clusters to allow the data to 'fit' into the expected categories\n",
    "# We chose 3 as the dataset is made up of 3 diff species of iris flower\n",
    "kmeans.cluster = skcl.KMeans(n_clusters=3, random_state=0).fit(iris)\n",
    "\n",
    "# Print out the expected clusters of each data point in the dataset\n",
    "# i.e. getting the machine to allocate the points into similar clusters\n",
    "kmeans.labels_\n"
   ]
  },
  {
   "cell_type": "markdown",
   "metadata": {},
   "source": [
    "Having gotten the output for kmeans_labels, you can see in the output that there is a clear list of a cluster for \"1\" at the beginning of the dataset but then throughout the remainder of the output, there is alot of switching from \"0\" to \"2\" interpreting that there may be a closer relationship between these two labels. <br>\n",
    "Based on the above, this could lead to inaccurate data being outputted. We shall determine the data further in the form of plotting. "
   ]
  },
  {
   "cell_type": "code",
   "execution_count": 18,
   "metadata": {},
   "outputs": [
    {
     "data": {
      "text/plain": [
       "array([[6.85      , 3.07368421, 5.74210526, 2.07105263],\n",
       "       [5.006     , 3.428     , 1.462     , 0.246     ],\n",
       "       [5.9016129 , 2.7483871 , 4.39354839, 1.43387097]])"
      ]
     },
     "execution_count": 18,
     "metadata": {},
     "output_type": "execute_result"
    }
   ],
   "source": [
    "# Determining the centre points for the above clusters\n",
    "cent = kmeans.cluster_centers_\n",
    "cent"
   ]
  },
  {
   "cell_type": "code",
   "execution_count": 26,
   "metadata": {},
   "outputs": [
    {
     "data": {
      "text/plain": [
       "array([1, 1, 2])"
      ]
     },
     "execution_count": 26,
     "metadata": {},
     "output_type": "execute_result"
    }
   ],
   "source": [
    "# Created a prediction of random data to determine if kmeans can correctly classify the arrays into the appropriate cluster.\n",
    "\n",
    "kmeans.predict([[ 0.12312345, -5.32256789, 0.32413456, 0.98765432 ], [ 1.13597027,  0.08842168,  0.826423546, 1.23498763 ], [ 2.34261839,  0.726561948, 3.761488096,  2.452354763 ]])"
   ]
  },
  {
   "cell_type": "markdown",
   "metadata": {},
   "source": [
    "*** \n",
    "\n",
    "### Plotting the dataset:"
   ]
  },
  {
   "cell_type": "code",
   "execution_count": null,
   "metadata": {},
   "outputs": [],
   "source": []
  },
  {
   "cell_type": "code",
   "execution_count": 61,
   "metadata": {},
   "outputs": [
    {
     "data": {
      "text/plain": [
       "Text(0, 0.5, 'Sepal Width')"
      ]
     },
     "execution_count": 61,
     "metadata": {},
     "output_type": "execute_result"
    },
    {
     "data": {
      "image/png": "[encoded data removed]",
      "text/plain": [
       "<Figure size 432x288 with 1 Axes>"
      ]
     },
     "metadata": {
      "needs_background": "light"
     },
     "output_type": "display_data"
    }
   ],
   "source": [
    "# Scatter plot example taken from the following source:\n",
    "# https://medium.com/@belen.sanchez27/predicting-iris-flower-species-with-k-means-clustering-in-python-f6e46806aaee\n",
    "# CMap reference: https://matplotlib.org/3.1.1/api/_as_gen/matplotlib.pyplot.scatter.html\n",
    "\n",
    "plt.scatter(X[:,0], X[:,1], c=y, cmap='rainbow')\n",
    "plt.xlabel('Sepa1 Length', fontsize=16)\n",
    "plt.ylabel('Sepal Width', fontsize=16)"
   ]
  },
  {
   "cell_type": "markdown",
   "metadata": {},
   "source": [
    "##### The Elbow Curve\n",
    "During my research for this task, I discovered another interesting plot called 'The Elbow Method'. The point of the curve / elbow on the plot is where the optimum amount of clusters occurs. https://www.kaggle.com/tonzowonzo/simple-k-means-clustering-on-the-iris-dataset <br>\n",
    "\n",
    "We do not require this plot in our task because we have the dataset and are aware of the expected clusters, I still wanted to include it as it is an interesting piece. <br>\n",
    "\n",
    "Although I was unable to get the code to work for myself when adjusted to my tags, I still wanted to include it so as to show the work and research in the hope of building on it in the future. <br>\n",
    "<i>*I have commented out the lines in the code cells so that they do not produce output errors to the notebook.</i>"
   ]
  },
  {
   "cell_type": "code",
   "execution_count": 55,
   "metadata": {},
   "outputs": [],
   "source": [
    "# Elbow example from https://www.kaggle.com/tonzowonzo/simple-k-means-clustering-on-the-iris-dataset\n",
    "\n",
    "#Finding the optimum number of clusters for k-means classification\n",
    "#from sklearn.cluster import KMeans\n",
    "#wcss = []\n",
    "\n",
    "#for i in range(1, 11):\n",
    "#    kmeans = skcl(n_clusters = i, init = 'k-means++', max_iter = 300, n_init = 10, random_state = 0)\n",
    "#    kmeans.fit(myiris)\n",
    "#    wcss.append(kmeans.inertia_)\n",
    "    \n",
    "#Plotting the results onto a line graph, allowing us to observe 'The elbow'\n",
    "#plt.plot(range(1, 11), wcss)\n",
    "#plt.title('The elbow method')\n",
    "#plt.xlabel('Number of clusters')\n",
    "#plt.ylabel('WCSS') #within cluster sum of squares\n",
    "#plt.show()\n"
   ]
  },
  {
   "cell_type": "code",
   "execution_count": 62,
   "metadata": {},
   "outputs": [
    {
     "ename": "ValueError",
     "evalue": "could not convert string to float: 'Setosa'",
     "output_type": "error",
     "traceback": [
      "\u001b[1;31m---------------------------------------------------------------------------\u001b[0m",
      "\u001b[1;31mValueError\u001b[0m                                Traceback (most recent call last)",
      "\u001b[1;32m<ipython-input-62-86dc34586559>\u001b[0m in \u001b[0;36m<module>\u001b[1;34m\u001b[0m\n\u001b[0;32m      4\u001b[0m \u001b[1;33m\u001b[0m\u001b[0m\n\u001b[0;32m      5\u001b[0m \u001b[0mmms\u001b[0m \u001b[1;33m=\u001b[0m \u001b[0mMinMaxScaler\u001b[0m\u001b[1;33m(\u001b[0m\u001b[1;33m)\u001b[0m\u001b[1;33m\u001b[0m\u001b[1;33m\u001b[0m\u001b[0m\n\u001b[1;32m----> 6\u001b[1;33m \u001b[0mmms\u001b[0m\u001b[1;33m.\u001b[0m\u001b[0mfit\u001b[0m\u001b[1;33m(\u001b[0m\u001b[0mdata\u001b[0m\u001b[1;33m)\u001b[0m\u001b[1;33m\u001b[0m\u001b[1;33m\u001b[0m\u001b[0m\n\u001b[0m\u001b[0;32m      7\u001b[0m \u001b[0mdata_transformed\u001b[0m \u001b[1;33m=\u001b[0m \u001b[0mmms\u001b[0m\u001b[1;33m.\u001b[0m\u001b[0mtransform\u001b[0m\u001b[1;33m(\u001b[0m\u001b[0mdata\u001b[0m\u001b[1;33m)\u001b[0m\u001b[1;33m\u001b[0m\u001b[1;33m\u001b[0m\u001b[0m\n",
      "\u001b[1;32m~\\anaconda3\\lib\\site-packages\\sklearn\\preprocessing\\_data.py\u001b[0m in \u001b[0;36mfit\u001b[1;34m(self, X, y)\u001b[0m\n\u001b[0;32m    334\u001b[0m         \u001b[1;31m# Reset internal state before fitting\u001b[0m\u001b[1;33m\u001b[0m\u001b[1;33m\u001b[0m\u001b[1;33m\u001b[0m\u001b[0m\n\u001b[0;32m    335\u001b[0m         \u001b[0mself\u001b[0m\u001b[1;33m.\u001b[0m\u001b[0m_reset\u001b[0m\u001b[1;33m(\u001b[0m\u001b[1;33m)\u001b[0m\u001b[1;33m\u001b[0m\u001b[1;33m\u001b[0m\u001b[0m\n\u001b[1;32m--> 336\u001b[1;33m         \u001b[1;32mreturn\u001b[0m \u001b[0mself\u001b[0m\u001b[1;33m.\u001b[0m\u001b[0mpartial_fit\u001b[0m\u001b[1;33m(\u001b[0m\u001b[0mX\u001b[0m\u001b[1;33m,\u001b[0m \u001b[0my\u001b[0m\u001b[1;33m)\u001b[0m\u001b[1;33m\u001b[0m\u001b[1;33m\u001b[0m\u001b[0m\n\u001b[0m\u001b[0;32m    337\u001b[0m \u001b[1;33m\u001b[0m\u001b[0m\n\u001b[0;32m    338\u001b[0m     \u001b[1;32mdef\u001b[0m \u001b[0mpartial_fit\u001b[0m\u001b[1;33m(\u001b[0m\u001b[0mself\u001b[0m\u001b[1;33m,\u001b[0m \u001b[0mX\u001b[0m\u001b[1;33m,\u001b[0m \u001b[0my\u001b[0m\u001b[1;33m=\u001b[0m\u001b[1;32mNone\u001b[0m\u001b[1;33m)\u001b[0m\u001b[1;33m:\u001b[0m\u001b[1;33m\u001b[0m\u001b[1;33m\u001b[0m\u001b[0m\n",
      "\u001b[1;32m~\\anaconda3\\lib\\site-packages\\sklearn\\preprocessing\\_data.py\u001b[0m in \u001b[0;36mpartial_fit\u001b[1;34m(self, X, y)\u001b[0m\n\u001b[0;32m    367\u001b[0m \u001b[1;33m\u001b[0m\u001b[0m\n\u001b[0;32m    368\u001b[0m         \u001b[0mfirst_pass\u001b[0m \u001b[1;33m=\u001b[0m \u001b[1;32mnot\u001b[0m \u001b[0mhasattr\u001b[0m\u001b[1;33m(\u001b[0m\u001b[0mself\u001b[0m\u001b[1;33m,\u001b[0m \u001b[1;34m'n_samples_seen_'\u001b[0m\u001b[1;33m)\u001b[0m\u001b[1;33m\u001b[0m\u001b[1;33m\u001b[0m\u001b[0m\n\u001b[1;32m--> 369\u001b[1;33m         X = self._validate_data(X, reset=first_pass,\n\u001b[0m\u001b[0;32m    370\u001b[0m                                 \u001b[0mestimator\u001b[0m\u001b[1;33m=\u001b[0m\u001b[0mself\u001b[0m\u001b[1;33m,\u001b[0m \u001b[0mdtype\u001b[0m\u001b[1;33m=\u001b[0m\u001b[0mFLOAT_DTYPES\u001b[0m\u001b[1;33m,\u001b[0m\u001b[1;33m\u001b[0m\u001b[1;33m\u001b[0m\u001b[0m\n\u001b[0;32m    371\u001b[0m                                 force_all_finite=\"allow-nan\")\n",
      "\u001b[1;32m~\\anaconda3\\lib\\site-packages\\sklearn\\base.py\u001b[0m in \u001b[0;36m_validate_data\u001b[1;34m(self, X, y, reset, validate_separately, **check_params)\u001b[0m\n\u001b[0;32m    418\u001b[0m                     \u001b[1;34mf\"requires y to be passed, but the target y is None.\"\u001b[0m\u001b[1;33m\u001b[0m\u001b[1;33m\u001b[0m\u001b[0m\n\u001b[0;32m    419\u001b[0m                 )\n\u001b[1;32m--> 420\u001b[1;33m             \u001b[0mX\u001b[0m \u001b[1;33m=\u001b[0m \u001b[0mcheck_array\u001b[0m\u001b[1;33m(\u001b[0m\u001b[0mX\u001b[0m\u001b[1;33m,\u001b[0m \u001b[1;33m**\u001b[0m\u001b[0mcheck_params\u001b[0m\u001b[1;33m)\u001b[0m\u001b[1;33m\u001b[0m\u001b[1;33m\u001b[0m\u001b[0m\n\u001b[0m\u001b[0;32m    421\u001b[0m             \u001b[0mout\u001b[0m \u001b[1;33m=\u001b[0m \u001b[0mX\u001b[0m\u001b[1;33m\u001b[0m\u001b[1;33m\u001b[0m\u001b[0m\n\u001b[0;32m    422\u001b[0m         \u001b[1;32melse\u001b[0m\u001b[1;33m:\u001b[0m\u001b[1;33m\u001b[0m\u001b[1;33m\u001b[0m\u001b[0m\n",
      "\u001b[1;32m~\\anaconda3\\lib\\site-packages\\sklearn\\utils\\validation.py\u001b[0m in \u001b[0;36minner_f\u001b[1;34m(*args, **kwargs)\u001b[0m\n\u001b[0;32m     71\u001b[0m                           FutureWarning)\n\u001b[0;32m     72\u001b[0m         \u001b[0mkwargs\u001b[0m\u001b[1;33m.\u001b[0m\u001b[0mupdate\u001b[0m\u001b[1;33m(\u001b[0m\u001b[1;33m{\u001b[0m\u001b[0mk\u001b[0m\u001b[1;33m:\u001b[0m \u001b[0marg\u001b[0m \u001b[1;32mfor\u001b[0m \u001b[0mk\u001b[0m\u001b[1;33m,\u001b[0m \u001b[0marg\u001b[0m \u001b[1;32min\u001b[0m \u001b[0mzip\u001b[0m\u001b[1;33m(\u001b[0m\u001b[0msig\u001b[0m\u001b[1;33m.\u001b[0m\u001b[0mparameters\u001b[0m\u001b[1;33m,\u001b[0m \u001b[0margs\u001b[0m\u001b[1;33m)\u001b[0m\u001b[1;33m}\u001b[0m\u001b[1;33m)\u001b[0m\u001b[1;33m\u001b[0m\u001b[1;33m\u001b[0m\u001b[0m\n\u001b[1;32m---> 73\u001b[1;33m         \u001b[1;32mreturn\u001b[0m \u001b[0mf\u001b[0m\u001b[1;33m(\u001b[0m\u001b[1;33m**\u001b[0m\u001b[0mkwargs\u001b[0m\u001b[1;33m)\u001b[0m\u001b[1;33m\u001b[0m\u001b[1;33m\u001b[0m\u001b[0m\n\u001b[0m\u001b[0;32m     74\u001b[0m     \u001b[1;32mreturn\u001b[0m \u001b[0minner_f\u001b[0m\u001b[1;33m\u001b[0m\u001b[1;33m\u001b[0m\u001b[0m\n\u001b[0;32m     75\u001b[0m \u001b[1;33m\u001b[0m\u001b[0m\n",
      "\u001b[1;32m~\\anaconda3\\lib\\site-packages\\sklearn\\utils\\validation.py\u001b[0m in \u001b[0;36mcheck_array\u001b[1;34m(array, accept_sparse, accept_large_sparse, dtype, order, copy, force_all_finite, ensure_2d, allow_nd, ensure_min_samples, ensure_min_features, estimator)\u001b[0m\n\u001b[0;32m    597\u001b[0m                     \u001b[0marray\u001b[0m \u001b[1;33m=\u001b[0m \u001b[0marray\u001b[0m\u001b[1;33m.\u001b[0m\u001b[0mastype\u001b[0m\u001b[1;33m(\u001b[0m\u001b[0mdtype\u001b[0m\u001b[1;33m,\u001b[0m \u001b[0mcasting\u001b[0m\u001b[1;33m=\u001b[0m\u001b[1;34m\"unsafe\"\u001b[0m\u001b[1;33m,\u001b[0m \u001b[0mcopy\u001b[0m\u001b[1;33m=\u001b[0m\u001b[1;32mFalse\u001b[0m\u001b[1;33m)\u001b[0m\u001b[1;33m\u001b[0m\u001b[1;33m\u001b[0m\u001b[0m\n\u001b[0;32m    598\u001b[0m                 \u001b[1;32melse\u001b[0m\u001b[1;33m:\u001b[0m\u001b[1;33m\u001b[0m\u001b[1;33m\u001b[0m\u001b[0m\n\u001b[1;32m--> 599\u001b[1;33m                     \u001b[0marray\u001b[0m \u001b[1;33m=\u001b[0m \u001b[0mnp\u001b[0m\u001b[1;33m.\u001b[0m\u001b[0masarray\u001b[0m\u001b[1;33m(\u001b[0m\u001b[0marray\u001b[0m\u001b[1;33m,\u001b[0m \u001b[0morder\u001b[0m\u001b[1;33m=\u001b[0m\u001b[0morder\u001b[0m\u001b[1;33m,\u001b[0m \u001b[0mdtype\u001b[0m\u001b[1;33m=\u001b[0m\u001b[0mdtype\u001b[0m\u001b[1;33m)\u001b[0m\u001b[1;33m\u001b[0m\u001b[1;33m\u001b[0m\u001b[0m\n\u001b[0m\u001b[0;32m    600\u001b[0m             \u001b[1;32mexcept\u001b[0m \u001b[0mComplexWarning\u001b[0m\u001b[1;33m:\u001b[0m\u001b[1;33m\u001b[0m\u001b[1;33m\u001b[0m\u001b[0m\n\u001b[0;32m    601\u001b[0m                 raise ValueError(\"Complex data not supported\\n\"\n",
      "\u001b[1;32m~\\anaconda3\\lib\\site-packages\\numpy\\core\\_asarray.py\u001b[0m in \u001b[0;36masarray\u001b[1;34m(a, dtype, order)\u001b[0m\n\u001b[0;32m     83\u001b[0m \u001b[1;33m\u001b[0m\u001b[0m\n\u001b[0;32m     84\u001b[0m     \"\"\"\n\u001b[1;32m---> 85\u001b[1;33m     \u001b[1;32mreturn\u001b[0m \u001b[0marray\u001b[0m\u001b[1;33m(\u001b[0m\u001b[0ma\u001b[0m\u001b[1;33m,\u001b[0m \u001b[0mdtype\u001b[0m\u001b[1;33m,\u001b[0m \u001b[0mcopy\u001b[0m\u001b[1;33m=\u001b[0m\u001b[1;32mFalse\u001b[0m\u001b[1;33m,\u001b[0m \u001b[0morder\u001b[0m\u001b[1;33m=\u001b[0m\u001b[0morder\u001b[0m\u001b[1;33m)\u001b[0m\u001b[1;33m\u001b[0m\u001b[1;33m\u001b[0m\u001b[0m\n\u001b[0m\u001b[0;32m     86\u001b[0m \u001b[1;33m\u001b[0m\u001b[0m\n\u001b[0;32m     87\u001b[0m \u001b[1;33m\u001b[0m\u001b[0m\n",
      "\u001b[1;31mValueError\u001b[0m: could not convert string to float: 'Setosa'"
     ]
    }
   ],
   "source": [
    "# Attempted to use this code as per https://blog.cambridgespark.com/how-to-determine-the-optimal-number-of-clusters-for-k-means-clustering-14f27070048f\n",
    "# But could not remove the variety line from the data, will revisit this at a later dat to try resolve\n",
    "from sklearn.preprocessing import MinMaxScaler\n",
    "\n",
    "mms = MinMaxScaler()\n",
    "mms.fit(data)\n",
    "data_transformed = mms.transform(data)\n"
   ]
  },
  {
   "cell_type": "code",
   "execution_count": 54,
   "metadata": {},
   "outputs": [],
   "source": [
    "# Elbow plot example from https://heartbeat.fritz.ai/k-means-clustering-using-sklearn-and-python-4a054d67b187\n",
    "\n",
    "#Error =[]\n",
    "#for i in range(1, 11):\n",
    "#    skcl = KMeans(n_clusters = i).fit(myiris)\n",
    "#    skcl.fit(myiris)\n",
    "#    Error.append(skcl.inertia_)\n",
    "#import matplotlib.pyplot as plt\n",
    "#plt.plot(range(1, 11), Error)\n",
    "#plt.title('Elbow method')\n",
    "#plt.xlabel('No of clusters')\n",
    "#plt.ylabel('Error')\n",
    "#plt.show()"
   ]
  },
  {
   "cell_type": "markdown",
   "metadata": {},
   "source": [
    "### Conclusion:\n",
    "\n",
    "Having researched the area of K-Means and Machine Learning as an overall area I find it an extremely interesting section of the course. And I also appreciate just how much the language of Python can do with all its built-in features in comparison to previous languages and older versions. The benefits of the built-in functions and features makes life so much easier for modern programmers. <br>\n",
    "I appreciate that Machine Learning is an incredibly large and vast area that as Ian has mentioned, its functions and code is not something which needs to be memorised for reproduction, online research and forums allow you to research on-the-fly to obtain the necessary info when required. <br>\n",
    "Scikit-Learn and its componenets are quite an interesting area and the different library of algorithms that it offers is a huge benefit and value to current programmers. <br>\n",
    "From the area of 'Pre-processing' which allows you to adjust the values of data to allow a fairer and more relevant output e.g. a dataset made up of measurements which were metres and cms would output false data if left as is. <br>\n",
    "I believe that the library of 'Clustering', which I used for this task, is an invaluable library which allows the grouping of items of similarity within an array / dataset. In todays world, this library would likely be very useful and beneficial when analysing data and gaining results from the outputs. Potentially when it comes to social media for example with reviewing trends and activity or potentially reviewing surveys it allows to view trends in the output data with relating to similarities and clusters. \n",
    "<br>\n",
    "\n",
    "***\n",
    "\n",
    "### References:\n",
    "<ul>\n",
    "    <li>https://en.wikipedia.org/wiki/Iris_flower_data_set</li>\n",
    "    <li>https://github.com/ianmcloughlin/jupyter-teaching-notebooks/blob/master/kmeans-examples.ipynb</li>\n",
    "    <li>https://towardsdatascience.com/understanding-k-means-clustering-in-machine-learning-6a6e67336aa1 </li>\n",
    "    <li>https://scikit-learn.org/stable/auto_examples/datasets/plot_iris_dataset.html</li>\n",
    "    <li>https://archive.ics.uci.edu/ml/datasets/iris</li>\n",
    "    <li>https://www.kaggle.com/tonzowonzo/simple-k-means-clustering-on-the-iris-dataset</li>\n",
    "    <li>https://pandas.pydata.org/pandas-docs/stable/reference/api/pandas.DataFrame.drop.html</li>\n",
    "    <li>https://gist.github.com/curran/a08a1080b88344b0c8a7#file-iris-csv</li>\n",
    "    <li>https://github.com/ybenzaki/kmeans-iris-dataset-python-scikit-learn/blob/master/kmeans%20clustering.ipynb</li>\n",
    "    <li>https://github.com/ybenzaki/kmeans-iris-dataset-python-scikit-learn/blob/master/kmeans_clustering.py</li>\n",
    "    <li>https://github.com/bhattbhavesh91/k_means_iris_dataset</li>\n",
    "    <li>https://gist.github.com/naufraghi/457394</li>\n",
    "    <li>https://github.com/amanRaina/K-means-clustering</li>\n",
    "    <li>https://archive.ics.uci.edu/ml/machine-learning-databases/iris/iris.data</li>\n",
    "  \n",
    "</ul>\n"
   ]
  },
  {
   "cell_type": "markdown",
   "metadata": {},
   "source": [
    "### End\n",
    "\n",
    "***\n",
    "***"
   ]
  }
 ],
 "metadata": {
  "kernelspec": {
   "display_name": "Python 3",
   "language": "python",
   "name": "python3"
  },
  "language_info": {
   "codemirror_mode": {
    "name": "ipython",
    "version": 3
   },
   "file_extension": ".py",
   "mimetype": "text/x-python",
   "name": "python",
   "nbconvert_exporter": "python",
   "pygments_lexer": "ipython3",
   "version": "3.8.3"
  }
 },
 "nbformat": 4,
 "nbformat_minor": 4
}
