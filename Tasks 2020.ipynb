{
 "cells": [
  {
   "cell_type": "markdown",
   "metadata": {},
   "source": [
    "# Tasks Assessments 2020\n"
   ]
  },
  {
   "cell_type": "markdown",
   "metadata": {},
   "source": [
    "## Module: Machine Learning and Statistics\n",
    "\n",
    "<br>\n",
    "\n",
    "These are my solutions for the Task assessments that have been set out as apart of my ongoing studies for H. Dip in Data Analytics at GMIT.\n",
    "<br><br>\n"
   ]
  },
  {
   "cell_type": "markdown",
   "metadata": {},
   "source": [
    "***"
   ]
  },
  {
   "cell_type": "markdown",
   "metadata": {},
   "source": [
    "### Task 1: Calculate the square root of 2\n",
    "\n",
    "![Square Root image](2.jpg)\n",
    "###### Image source: https://www.google.com/url?sa=i&url=https%3A%2F%2Fmagoosh.com%2Fmath%2Fpowers-and-roots-square-roots%2F&psig=AOvVaw1RujAC9Ah-YssUhQ1NOzWe&ust=1602502592305000&source=images&cd=vfe&ved=0CA0QjhxqFwoTCNiVnrm5rOwCFQAAAAAdAAAAABAD \n",
    "\n",
    "### The aim of this assessment is to display an algorithm that has the ability to calculate the square root of a number without the use of the built-in functions, i.e. math.sqrt."
   ]
  },
  {
   "cell_type": "markdown",
   "metadata": {},
   "source": [
    "There is documentation on the Python documentation that explains in great detail, the process and options available of how to display the decimal output based on built in modules. - Python; 9.3 decimal - Decimal fixed point and floating point arithmetic; https://docs.python.org/2/library/decimal.html\n",
    "\n",
    "\n",
    "There are many different methods available to compute the square root of a number. I found alot of indepth information on these different options and methods, documented on on this link: https://en.wikipedia.org/wiki/Methods_of_computing_square_roots\n",
    "<br>\n",
    "\n",
    "<i>\"The method employed depends on what the result is to be used for (i.e. how accurate it has to be), how much effort one is willing to put into the procedure, and what tools are at hand.\"</i>\n",
    "<br>\n",
    "\n",
    "The method that you choose also depends on the way in which the calculations are going to be completed. Some methods can be completed mentally or via paper-and-pencil whereas others require indepth calculations by computation.\n",
    "<br>\n",
    "\n",
    "#### How float numbers are stored in memory on a computer?\n",
    "\n",
    "Having researched the aspect of how a floating point number is stored on a computer, the area is an extremely vast and complex one. \n",
    "<br>\n",
    "\n",
    "From my understanding of how the memory storage takes place, the bits are broken up into 3 areas which are used for the storage of: the sign, the mantissa and the expotent.\n",
    "<br>\n",
    "<i>\"The mantissa holds the main digits and the exponents defines where the decimal point should be placed. The same technique can be used for binary numbers.\" </i> https://en.wikibooks.org/wiki/A-level_Computing/AQA/Paper_2/Fundamentals_of_data_representation/Floating_point_numbers\n",
    "<br>\n",
    "\n",
    "The standard for Floating-Point arithmetic is set out by the IEEE (Institute of Electrical and Electronics Engineers).\n",
    "\n",
    "<i>\"The IEEE Standard for Floating-Point Arithmetic (IEEE 754) is a technical standard for floating-point arithmetic established in 1985\"</i> https://en.wikipedia.org/wiki/IEEE_754\n",
    "<br>\n",
    "Over time, there have been edits make to the standard with the latest one published and released in 2019.\n",
    "<br>\n",
    "\n",
    "<i>\"The current version, IEEE 754-2019, was published in July 2019.[1] It is a minor revision of the previous version, incorporating mainly clarifications, defect fixes and new recommended operations.\"</i> https://en.wikipedia.org/wiki/IEEE_754\n",
    "<br>\n",
    "\n",
    "In my research for this task, I have discovered that this is not the first time that this query has come about and found various threads on coding websites requesting assistance with this same task. Having read the following links, I can see that some codes are extremely indepth and of a high standard and some are in various other languages (e.g. C).\n",
    "<ol>\n",
    "    <li> Stackoverflow - Is there a way to create more decimal points on Python without importing a library/module?: https://stackoverflow.com/questions/64278117/is-there-a-way-to-create-more-decimal-points-on-python-without-importing-a-libra </li>\\\n",
    "    <li> Stackoverflor - How to compute the digits of an irrational number one by one?:\n",
    " https://stackoverflow.com/questions/60318091/how-to-compute-the-digits-of-an-irrational-number-one-by-one </li>\n",
    "    <li> Stack Exchange - Can anyone explain representation of float in memory?: \n",
    "https://softwareengineering.stackexchange.com/questions/215065/can-anyone-explain-representation-of-float-in-memory#:~:text=Floating%2Dpoint%20numbers%20are%20encoded,along%20with%20a%20sign%20bit).&text=Like%20signed%20integer%20types%2C%20the,are%20used%20for%20the%20exponent </li>\n",
    "</ol>\n",
    "\n",
    "I also researched this issue using various sites to gain a better understanding of the task:\n",
    "<ol>\n",
    "    <li> Keil.com; Floating-point Numbers; https://www.keil.com/support/man/docs/c51/c51_ap_floatingpt.htm#:~:text=Scalars%20of%20type%20float%20are,follows%20the%20IEEE%2D754%20standard.&text=The%20mantissa%20represents%20the%20actual,of%20the%20floating%2Dpoint%20number.&text=The%20actual%20value%20of%20the,of%20%E2%80%93127%20to%20%2B128 </li>\n",
    "    <li> Log2Base2.com; How float or double values are stored in memory? https://www.log2base2.com/storage/how-float-values-are-stored-in-memory.html </li>\n",
    "    <li> Floating Point Numbers; https://users.cs.fiu.edu/~downeyt/cop2400/float.htm </li>\n",
    "</ol>\n"
   ]
  },
  {
   "cell_type": "code",
   "execution_count": null,
   "metadata": {},
   "outputs": [],
   "source": [
    "# An example of how to compute the required task using a built in-function\n",
    "## https://stackoverflow.com/questions/4733173/how-can-i-show-an-irrational-number-to-100-decimal-places-in-python\n",
    "\n",
    "from decimal import *\n",
    "getcontext().prec = 100\n",
    "Decimal(2).sqrt()"
   ]
  },
  {
   "cell_type": "code",
   "execution_count": null,
   "metadata": {},
   "outputs": [],
   "source": [
    "## Another method of setting the decimal output using a built-in function \n",
    "## https://stackoverflow.com/questions/4733173/how-can-i-show-an-irrational-number-to-100-decimal-places-in-python\n",
    "\n",
    "import gmpy2\n",
    "ctx = gmpy2.get_context()\n",
    "ctx.precision = 100\n",
    "print(gmpy2.sqrt(2))\n",
    "\n",
    "## The output however does not output 100 decimal places as requested in the function\n",
    "## whn I chose to run this function again with 200 places it also displays less than requested. \n",
    "## This could be linked to - https://docs.python.org/3.4/tutorial/floatingpoint.html"
   ]
  },
  {
   "cell_type": "code",
   "execution_count": null,
   "metadata": {},
   "outputs": [],
   "source": [
    "# https://www.programiz.com/python-programming/examples/square-root\n",
    "# Python Program to calculate the square root\n",
    "\n",
    "# Note: change this value for a different result\n",
    "num = 2\n",
    "\n",
    "# To take the input from the user\n",
    "#num = float(input('Enter a number: '))\n",
    "\n",
    "num_sqrt = num ** 0.5\n",
    "print('The square root of %0.3f is %0.3f'%(num ,num_sqrt))"
   ]
  },
  {
   "cell_type": "code",
   "execution_count": null,
   "metadata": {},
   "outputs": [],
   "source": [
    "# https://www.tutorialspoint.com/How-to-perform-square-root-without-using-math-module-in-Python\n",
    "# Example of using an expotentiation operator to gain the initial request of this task\n",
    "\n",
    "2**(1/2)"
   ]
  },
  {
   "cell_type": "code",
   "execution_count": 15,
   "metadata": {},
   "outputs": [
    {
     "ename": "SyntaxError",
     "evalue": "unexpected EOF while parsing (<ipython-input-15-03d7337e61f9>, line 15)",
     "output_type": "error",
     "traceback": [
      "\u001b[1;36m  File \u001b[1;32m\"<ipython-input-15-03d7337e61f9>\"\u001b[1;36m, line \u001b[1;32m15\u001b[0m\n\u001b[1;33m    \u001b[0m\n\u001b[1;37m    ^\u001b[0m\n\u001b[1;31mSyntaxError\u001b[0m\u001b[1;31m:\u001b[0m unexpected EOF while parsing\n"
     ]
    }
   ],
   "source": [
    "# https://web.microsoftstream.com/video/4199579c-c3ed-48b7-9c5c-2911cefff50b\n",
    "# https://www.w3schools.com/python/python_functions.asp\n",
    "# https://www.programiz.com/python-programming/examples/square-root\n",
    "# https://www.tutorialspoint.com/How-to-perform-square-root-without-using-math-module-in-Python\n",
    "\n",
    "\n",
    "def sqrt2(n):\n",
    "    return n**0.5\n",
    "\n",
    "for x in range (2, 101):\n",
    "    ##print(sqrt2(round(x, 100))\n",
    "    ## I was attempting to produce an output with rounding the result to 100 decimal places as per info on site:\n",
    "    ## https://stackoverflow.com/questions/44422918/square-root-to-2-decimal-places\n",
    "    print(format (sqrt2(x,'.2f'))      \n",
    "    \n",
    "    ## print(\"{:.100f}\".format(number))\n",
    "    ## Another alternative I tried but unable to make the code work\n",
    "          \n"
   ]
  },
  {
   "cell_type": "code",
   "execution_count": null,
   "metadata": {},
   "outputs": [],
   "source": [
    "# https://www.sololearn.com/Discuss/2228331/how-can-we-calculate-square-root-without-using-any-built-in-function-in-python\n",
    "# Example of a simple function to gain the initial request of this task (without the set decimal places)\n",
    "\n",
    "# square root\n",
    "a=int(input(\"enter no.\"))\n",
    "b=a**0.5\n",
    "print(b)"
   ]
  },
  {
   "cell_type": "markdown",
   "metadata": {},
   "source": [
    "I have made various attempts to create and set decimal places manually through the code I create rather than relying on an import function or module.\n",
    "I came across options that are not relevant in this instance:\n",
    "<ul>\n",
    "    <li> https://kodify.net/python/math/round-decimals/ </li>\n",
    "    <li> https://www.kite.com/python/answers/how-to-print-a-float-with-two-decimal-places-in-python#:~:text=Use%20str.,string%20to%20print%20the%20float. </li>\n",
    "</ul>"
   ]
  },
  {
   "cell_type": "code",
   "execution_count": 17,
   "metadata": {},
   "outputs": [
    {
     "name": "stdout",
     "output_type": "stream",
     "text": [
      "1.4142135623730950488016887242096980785696718753769480731766797379907324784621070388503875343276415727\n"
     ]
    }
   ],
   "source": [
    "## Perfect example of the code required for this task \n",
    "## https://stackoverflow.com/questions/64278117/is-there-a-way-to-create-more-decimal-points-on-python-without-importing-a-libra\n",
    "\n",
    "x = 2 * 10 ** 200\n",
    "\n",
    "r = x\n",
    "\n",
    "def test_diffs(x, r):\n",
    "    d0 = abs(x - r**2)\n",
    "    dm = abs(x - (r-1)**2)\n",
    "    dp = abs(x - (r+1)**2)\n",
    "    minimised = d0 <= dm and d0 <= dp\n",
    "    below_min = dp < dm\n",
    "    return minimised, below_min\n",
    "\n",
    "while True:\n",
    "    oldr = r\n",
    "    r = (r + x // r) // 2\n",
    "\n",
    "    minimised, below_min = test_diffs(x, r)\n",
    "    if minimised:\n",
    "        break\n",
    "\n",
    "    if r == oldr:\n",
    "        if below_min:\n",
    "            r += 1\n",
    "        else:\n",
    "            r -= 1\n",
    "        minimised, _ = test_diffs(x, r)\n",
    "        if minimised:\n",
    "            break\n",
    "\n",
    "print(f'{r // 10**100}.{r % 10**100:0100d}')"
   ]
  },
  {
   "cell_type": "markdown",
   "metadata": {},
   "source": [
    "#### Conclusion for Task 1\n",
    "\n",
    "Having spent a considerable time trying to fathom how to create this code, I have learned to appreciate the ease and convenience that comes with the built-in codes and libraries that make coding such as this quite straightforward. \n",
    "There appears to be alot of attempts in the past to achieve the same task as myself, based on the results found online throughout my research. I look forward to building on my knowledge and info to date to overcome this challenge in the future while also using this as a benchmark to attempt and complete other coding without the use of built-in libraries. "
   ]
  },
  {
   "cell_type": "markdown",
   "metadata": {},
   "source": [
    "\n",
    "******\n",
    "***\n",
    "****"
   ]
  },
  {
   "cell_type": "markdown",
   "metadata": {},
   "source": [
    "### Task 2: Chi-squared test for independence\n",
    "\n",
    "<br>\n",
    "\n",
    "#### <u> Background </u>\n",
    "\n",
    "The chi-squared test was developed during the 19th Century by Karl Pearson. Pearson identified skewness within biological observations and <i>\"developed the Pearson distribution proposing a method to model the observation and perform a test of goodness of fit to determine how well the model really fits to the observations.\"</i> https://en.wikipedia.org/wiki/Chi-squared_test\n",
    "\n",
    "The aim of the chi-squared test is to determine if there is a relation to the variables within the categories of the contingency table (also known as a crosstab).\n",
    "<br>\n",
    "\n",
    "\n",
    "![Chi-squared test table](chi-table.PNG)\n",
    "\n",
    "#### References\n",
    "https://docs.scipy.org/doc/scipy/reference/generated/scipy.stats.chisquare.html"
   ]
  },
  {
   "cell_type": "code",
   "execution_count": 19,
   "metadata": {},
   "outputs": [
    {
     "ename": "ValueError",
     "evalue": "arrays must all be same length",
     "output_type": "error",
     "traceback": [
      "\u001b[1;31m---------------------------------------------------------------------------\u001b[0m",
      "\u001b[1;31mValueError\u001b[0m                                Traceback (most recent call last)",
      "\u001b[1;32m<ipython-input-19-f50a9976eecb>\u001b[0m in \u001b[0;36m<module>\u001b[1;34m\u001b[0m\n\u001b[0;32m     14\u001b[0m \u001b[1;31m# https://www.kaggle.com/hamelg/python-for-data-25-chi-squared-tests\u001b[0m\u001b[1;33m\u001b[0m\u001b[1;33m\u001b[0m\u001b[1;33m\u001b[0m\u001b[0m\n\u001b[0;32m     15\u001b[0m \u001b[1;33m\u001b[0m\u001b[0m\n\u001b[1;32m---> 16\u001b[1;33m \u001b[0mdf\u001b[0m \u001b[1;33m=\u001b[0m \u001b[0mpd\u001b[0m\u001b[1;33m.\u001b[0m\u001b[0mDataFrame\u001b[0m\u001b[1;33m(\u001b[0m\u001b[1;33m{\u001b[0m\u001b[1;34m'Neighbourhood'\u001b[0m \u001b[1;33m:\u001b[0m \u001b[1;33m[\u001b[0m\u001b[1;34m'A'\u001b[0m\u001b[1;33m,\u001b[0m \u001b[1;34m'B'\u001b[0m\u001b[1;33m,\u001b[0m \u001b[1;34m'C'\u001b[0m\u001b[1;33m,\u001b[0m \u001b[1;34m'D'\u001b[0m\u001b[1;33m]\u001b[0m \u001b[1;33m*\u001b[0m \u001b[1;36m4\u001b[0m\u001b[1;33m,\u001b[0m \u001b[1;34m'Collar'\u001b[0m \u001b[1;33m:\u001b[0m \u001b[1;33m[\u001b[0m\u001b[1;34m'White'\u001b[0m\u001b[1;33m,\u001b[0m \u001b[1;34m'Blue'\u001b[0m\u001b[1;33m,\u001b[0m \u001b[1;34m'NoCollar'\u001b[0m\u001b[1;33m]\u001b[0m \u001b[1;33m*\u001b[0m \u001b[1;36m4\u001b[0m \u001b[1;33m}\u001b[0m\u001b[1;33m)\u001b[0m\u001b[1;33m\u001b[0m\u001b[1;33m\u001b[0m\u001b[0m\n\u001b[0m\u001b[0;32m     17\u001b[0m \u001b[1;33m\u001b[0m\u001b[0m\n\u001b[0;32m     18\u001b[0m \u001b[0mdf\u001b[0m\u001b[1;33m.\u001b[0m\u001b[0mhead\u001b[0m\u001b[1;33m(\u001b[0m\u001b[1;33m)\u001b[0m\u001b[1;33m\u001b[0m\u001b[1;33m\u001b[0m\u001b[0m\n",
      "\u001b[1;32m~\\anaconda3\\lib\\site-packages\\pandas\\core\\frame.py\u001b[0m in \u001b[0;36m__init__\u001b[1;34m(self, data, index, columns, dtype, copy)\u001b[0m\n\u001b[0;32m    433\u001b[0m             )\n\u001b[0;32m    434\u001b[0m         \u001b[1;32melif\u001b[0m \u001b[0misinstance\u001b[0m\u001b[1;33m(\u001b[0m\u001b[0mdata\u001b[0m\u001b[1;33m,\u001b[0m \u001b[0mdict\u001b[0m\u001b[1;33m)\u001b[0m\u001b[1;33m:\u001b[0m\u001b[1;33m\u001b[0m\u001b[1;33m\u001b[0m\u001b[0m\n\u001b[1;32m--> 435\u001b[1;33m             \u001b[0mmgr\u001b[0m \u001b[1;33m=\u001b[0m \u001b[0minit_dict\u001b[0m\u001b[1;33m(\u001b[0m\u001b[0mdata\u001b[0m\u001b[1;33m,\u001b[0m \u001b[0mindex\u001b[0m\u001b[1;33m,\u001b[0m \u001b[0mcolumns\u001b[0m\u001b[1;33m,\u001b[0m \u001b[0mdtype\u001b[0m\u001b[1;33m=\u001b[0m\u001b[0mdtype\u001b[0m\u001b[1;33m)\u001b[0m\u001b[1;33m\u001b[0m\u001b[1;33m\u001b[0m\u001b[0m\n\u001b[0m\u001b[0;32m    436\u001b[0m         \u001b[1;32melif\u001b[0m \u001b[0misinstance\u001b[0m\u001b[1;33m(\u001b[0m\u001b[0mdata\u001b[0m\u001b[1;33m,\u001b[0m \u001b[0mma\u001b[0m\u001b[1;33m.\u001b[0m\u001b[0mMaskedArray\u001b[0m\u001b[1;33m)\u001b[0m\u001b[1;33m:\u001b[0m\u001b[1;33m\u001b[0m\u001b[1;33m\u001b[0m\u001b[0m\n\u001b[0;32m    437\u001b[0m             \u001b[1;32mimport\u001b[0m \u001b[0mnumpy\u001b[0m\u001b[1;33m.\u001b[0m\u001b[0mma\u001b[0m\u001b[1;33m.\u001b[0m\u001b[0mmrecords\u001b[0m \u001b[1;32mas\u001b[0m \u001b[0mmrecords\u001b[0m\u001b[1;33m\u001b[0m\u001b[1;33m\u001b[0m\u001b[0m\n",
      "\u001b[1;32m~\\anaconda3\\lib\\site-packages\\pandas\\core\\internals\\construction.py\u001b[0m in \u001b[0;36minit_dict\u001b[1;34m(data, index, columns, dtype)\u001b[0m\n\u001b[0;32m    252\u001b[0m             \u001b[0marr\u001b[0m \u001b[1;32mif\u001b[0m \u001b[1;32mnot\u001b[0m \u001b[0mis_datetime64tz_dtype\u001b[0m\u001b[1;33m(\u001b[0m\u001b[0marr\u001b[0m\u001b[1;33m)\u001b[0m \u001b[1;32melse\u001b[0m \u001b[0marr\u001b[0m\u001b[1;33m.\u001b[0m\u001b[0mcopy\u001b[0m\u001b[1;33m(\u001b[0m\u001b[1;33m)\u001b[0m \u001b[1;32mfor\u001b[0m \u001b[0marr\u001b[0m \u001b[1;32min\u001b[0m \u001b[0marrays\u001b[0m\u001b[1;33m\u001b[0m\u001b[1;33m\u001b[0m\u001b[0m\n\u001b[0;32m    253\u001b[0m         ]\n\u001b[1;32m--> 254\u001b[1;33m     \u001b[1;32mreturn\u001b[0m \u001b[0marrays_to_mgr\u001b[0m\u001b[1;33m(\u001b[0m\u001b[0marrays\u001b[0m\u001b[1;33m,\u001b[0m \u001b[0mdata_names\u001b[0m\u001b[1;33m,\u001b[0m \u001b[0mindex\u001b[0m\u001b[1;33m,\u001b[0m \u001b[0mcolumns\u001b[0m\u001b[1;33m,\u001b[0m \u001b[0mdtype\u001b[0m\u001b[1;33m=\u001b[0m\u001b[0mdtype\u001b[0m\u001b[1;33m)\u001b[0m\u001b[1;33m\u001b[0m\u001b[1;33m\u001b[0m\u001b[0m\n\u001b[0m\u001b[0;32m    255\u001b[0m \u001b[1;33m\u001b[0m\u001b[0m\n\u001b[0;32m    256\u001b[0m \u001b[1;33m\u001b[0m\u001b[0m\n",
      "\u001b[1;32m~\\anaconda3\\lib\\site-packages\\pandas\\core\\internals\\construction.py\u001b[0m in \u001b[0;36marrays_to_mgr\u001b[1;34m(arrays, arr_names, index, columns, dtype)\u001b[0m\n\u001b[0;32m     62\u001b[0m     \u001b[1;31m# figure out the index, if necessary\u001b[0m\u001b[1;33m\u001b[0m\u001b[1;33m\u001b[0m\u001b[1;33m\u001b[0m\u001b[0m\n\u001b[0;32m     63\u001b[0m     \u001b[1;32mif\u001b[0m \u001b[0mindex\u001b[0m \u001b[1;32mis\u001b[0m \u001b[1;32mNone\u001b[0m\u001b[1;33m:\u001b[0m\u001b[1;33m\u001b[0m\u001b[1;33m\u001b[0m\u001b[0m\n\u001b[1;32m---> 64\u001b[1;33m         \u001b[0mindex\u001b[0m \u001b[1;33m=\u001b[0m \u001b[0mextract_index\u001b[0m\u001b[1;33m(\u001b[0m\u001b[0marrays\u001b[0m\u001b[1;33m)\u001b[0m\u001b[1;33m\u001b[0m\u001b[1;33m\u001b[0m\u001b[0m\n\u001b[0m\u001b[0;32m     65\u001b[0m     \u001b[1;32melse\u001b[0m\u001b[1;33m:\u001b[0m\u001b[1;33m\u001b[0m\u001b[1;33m\u001b[0m\u001b[0m\n\u001b[0;32m     66\u001b[0m         \u001b[0mindex\u001b[0m \u001b[1;33m=\u001b[0m \u001b[0mensure_index\u001b[0m\u001b[1;33m(\u001b[0m\u001b[0mindex\u001b[0m\u001b[1;33m)\u001b[0m\u001b[1;33m\u001b[0m\u001b[1;33m\u001b[0m\u001b[0m\n",
      "\u001b[1;32m~\\anaconda3\\lib\\site-packages\\pandas\\core\\internals\\construction.py\u001b[0m in \u001b[0;36mextract_index\u001b[1;34m(data)\u001b[0m\n\u001b[0;32m    363\u001b[0m             \u001b[0mlengths\u001b[0m \u001b[1;33m=\u001b[0m \u001b[0mlist\u001b[0m\u001b[1;33m(\u001b[0m\u001b[0mset\u001b[0m\u001b[1;33m(\u001b[0m\u001b[0mraw_lengths\u001b[0m\u001b[1;33m)\u001b[0m\u001b[1;33m)\u001b[0m\u001b[1;33m\u001b[0m\u001b[1;33m\u001b[0m\u001b[0m\n\u001b[0;32m    364\u001b[0m             \u001b[1;32mif\u001b[0m \u001b[0mlen\u001b[0m\u001b[1;33m(\u001b[0m\u001b[0mlengths\u001b[0m\u001b[1;33m)\u001b[0m \u001b[1;33m>\u001b[0m \u001b[1;36m1\u001b[0m\u001b[1;33m:\u001b[0m\u001b[1;33m\u001b[0m\u001b[1;33m\u001b[0m\u001b[0m\n\u001b[1;32m--> 365\u001b[1;33m                 \u001b[1;32mraise\u001b[0m \u001b[0mValueError\u001b[0m\u001b[1;33m(\u001b[0m\u001b[1;34m\"arrays must all be same length\"\u001b[0m\u001b[1;33m)\u001b[0m\u001b[1;33m\u001b[0m\u001b[1;33m\u001b[0m\u001b[0m\n\u001b[0m\u001b[0;32m    366\u001b[0m \u001b[1;33m\u001b[0m\u001b[0m\n\u001b[0;32m    367\u001b[0m             \u001b[1;32mif\u001b[0m \u001b[0mhave_dicts\u001b[0m\u001b[1;33m:\u001b[0m\u001b[1;33m\u001b[0m\u001b[1;33m\u001b[0m\u001b[0m\n",
      "\u001b[1;31mValueError\u001b[0m: arrays must all be same length"
     ]
    }
   ],
   "source": [
    "import numpy as np\n",
    "import pandas as pd\n",
    "import scipy.stats as stats\n",
    "from scipy.stats import chi2_contingency\n",
    "\n",
    "import seaborn as sns\n",
    "import matplotlib.pyplot as plt\n",
    "%matplotlib inline\n",
    "\n",
    "# load the dataset\n",
    "# df = get_data('filename').data\n",
    "# df.head()\n",
    "# https://reneshbedre.github.io/blog/chisq.html\n",
    "# https://www.kaggle.com/hamelg/python-for-data-25-chi-squared-tests\n",
    "\n",
    "df = pd.DataFrame({'Neighbourhood' : ['A', 'B', 'C', 'D'] * 4, 'Collar' : ['White', 'Blue', 'NoCollar'] * 4 })\n",
    "\n",
    "df.head()\n",
    "\n",
    "## Attempt to run using info from https://predictivehacks.com/how-to-run-chi-square-test-in-python/ failed \n",
    "## as per various errors as the dataframe I attempted to create had 4 pieces of info in 1 array and 3 in the other. \n"
   ]
  },
  {
   "cell_type": "code",
   "execution_count": 5,
   "metadata": {},
   "outputs": [
    {
     "name": "stdout",
     "output_type": "stream",
     "text": [
      "       Category    A    B    C    D  TOTAL\n",
      "0  White collar   90   60  104   95    349\n",
      "1   Blue collar   30   50   51   20    151\n",
      "2     No Collar   30   40   45   35    150\n",
      "3         Total  150  150  200  150    650\n"
     ]
    }
   ],
   "source": [
    "import numpy as np\n",
    "import pandas as pd\n",
    "import scipy.stats as stats\n",
    "from scipy.stats import chi2_contingency\n",
    "\n",
    "import seaborn as sns\n",
    "import matplotlib.pyplot as plt\n",
    "%matplotlib inline\n",
    "\n",
    "data = pd.read_csv(\"chi.csv\")\n",
    "\n",
    "print (data.head(4))\n"
   ]
  },
  {
   "cell_type": "code",
   "execution_count": 6,
   "metadata": {},
   "outputs": [
    {
     "data": {
      "text/html": [
       "<div>\n",
       "<style scoped>\n",
       "    .dataframe tbody tr th:only-of-type {\n",
       "        vertical-align: middle;\n",
       "    }\n",
       "\n",
       "    .dataframe tbody tr th {\n",
       "        vertical-align: top;\n",
       "    }\n",
       "\n",
       "    .dataframe thead th {\n",
       "        text-align: right;\n",
       "    }\n",
       "</style>\n",
       "<table border=\"1\" class=\"dataframe\">\n",
       "  <thead>\n",
       "    <tr style=\"text-align: right;\">\n",
       "      <th></th>\n",
       "      <th>A</th>\n",
       "      <th>B</th>\n",
       "      <th>C</th>\n",
       "      <th>D</th>\n",
       "      <th>TOTAL</th>\n",
       "    </tr>\n",
       "  </thead>\n",
       "  <tbody>\n",
       "    <tr>\n",
       "      <th>count</th>\n",
       "      <td>4.000000</td>\n",
       "      <td>4.000000</td>\n",
       "      <td>4.000000</td>\n",
       "      <td>4.000000</td>\n",
       "      <td>4.000000</td>\n",
       "    </tr>\n",
       "    <tr>\n",
       "      <th>mean</th>\n",
       "      <td>75.000000</td>\n",
       "      <td>75.000000</td>\n",
       "      <td>100.000000</td>\n",
       "      <td>75.000000</td>\n",
       "      <td>325.000000</td>\n",
       "    </tr>\n",
       "    <tr>\n",
       "      <th>std</th>\n",
       "      <td>57.445626</td>\n",
       "      <td>50.662281</td>\n",
       "      <td>71.744919</td>\n",
       "      <td>59.581876</td>\n",
       "      <td>236.009887</td>\n",
       "    </tr>\n",
       "    <tr>\n",
       "      <th>min</th>\n",
       "      <td>30.000000</td>\n",
       "      <td>40.000000</td>\n",
       "      <td>45.000000</td>\n",
       "      <td>20.000000</td>\n",
       "      <td>150.000000</td>\n",
       "    </tr>\n",
       "    <tr>\n",
       "      <th>25%</th>\n",
       "      <td>30.000000</td>\n",
       "      <td>47.500000</td>\n",
       "      <td>49.500000</td>\n",
       "      <td>31.250000</td>\n",
       "      <td>150.750000</td>\n",
       "    </tr>\n",
       "    <tr>\n",
       "      <th>50%</th>\n",
       "      <td>60.000000</td>\n",
       "      <td>55.000000</td>\n",
       "      <td>77.500000</td>\n",
       "      <td>65.000000</td>\n",
       "      <td>250.000000</td>\n",
       "    </tr>\n",
       "    <tr>\n",
       "      <th>75%</th>\n",
       "      <td>105.000000</td>\n",
       "      <td>82.500000</td>\n",
       "      <td>128.000000</td>\n",
       "      <td>108.750000</td>\n",
       "      <td>424.250000</td>\n",
       "    </tr>\n",
       "    <tr>\n",
       "      <th>max</th>\n",
       "      <td>150.000000</td>\n",
       "      <td>150.000000</td>\n",
       "      <td>200.000000</td>\n",
       "      <td>150.000000</td>\n",
       "      <td>650.000000</td>\n",
       "    </tr>\n",
       "  </tbody>\n",
       "</table>\n",
       "</div>"
      ],
      "text/plain": [
       "                A           B           C           D       TOTAL\n",
       "count    4.000000    4.000000    4.000000    4.000000    4.000000\n",
       "mean    75.000000   75.000000  100.000000   75.000000  325.000000\n",
       "std     57.445626   50.662281   71.744919   59.581876  236.009887\n",
       "min     30.000000   40.000000   45.000000   20.000000  150.000000\n",
       "25%     30.000000   47.500000   49.500000   31.250000  150.750000\n",
       "50%     60.000000   55.000000   77.500000   65.000000  250.000000\n",
       "75%    105.000000   82.500000  128.000000  108.750000  424.250000\n",
       "max    150.000000  150.000000  200.000000  150.000000  650.000000"
      ]
     },
     "execution_count": 6,
     "metadata": {},
     "output_type": "execute_result"
    }
   ],
   "source": [
    "data.describe()"
   ]
  },
  {
   "cell_type": "code",
   "execution_count": 7,
   "metadata": {},
   "outputs": [
    {
     "name": "stdout",
     "output_type": "stream",
     "text": [
      "<class 'pandas.core.frame.DataFrame'>\n",
      "RangeIndex: 4 entries, 0 to 3\n",
      "Data columns (total 6 columns):\n",
      " #   Column    Non-Null Count  Dtype \n",
      "---  ------    --------------  ----- \n",
      " 0   Category  4 non-null      object\n",
      " 1   A         4 non-null      int64 \n",
      " 2   B         4 non-null      int64 \n",
      " 3   C         4 non-null      int64 \n",
      " 4   D         4 non-null      int64 \n",
      " 5   TOTAL     4 non-null      int64 \n",
      "dtypes: int64(5), object(1)\n",
      "memory usage: 320.0+ bytes\n"
     ]
    }
   ],
   "source": [
    "data.info()"
   ]
  },
  {
   "cell_type": "code",
   "execution_count": 8,
   "metadata": {},
   "outputs": [
    {
     "data": {
      "text/plain": [
       "Category    object\n",
       "A            int64\n",
       "B            int64\n",
       "C            int64\n",
       "D            int64\n",
       "TOTAL        int64\n",
       "dtype: object"
      ]
     },
     "execution_count": 8,
     "metadata": {},
     "output_type": "execute_result"
    }
   ],
   "source": [
    "data.dtypes"
   ]
  },
  {
   "cell_type": "code",
   "execution_count": 12,
   "metadata": {},
   "outputs": [
    {
     "ename": "TypeError",
     "evalue": "'<' not supported between instances of 'numpy.ndarray' and 'int'",
     "output_type": "error",
     "traceback": [
      "\u001b[1;31m---------------------------------------------------------------------------\u001b[0m",
      "\u001b[1;31mTypeError\u001b[0m                                 Traceback (most recent call last)",
      "\u001b[1;32m<ipython-input-12-5eae0dc74260>\u001b[0m in \u001b[0;36m<module>\u001b[1;34m\u001b[0m\n\u001b[0;32m      3\u001b[0m \u001b[1;32mfrom\u001b[0m \u001b[0mscipy\u001b[0m\u001b[1;33m.\u001b[0m\u001b[0mstats\u001b[0m \u001b[1;32mimport\u001b[0m \u001b[0mchi2_contingency\u001b[0m\u001b[1;33m\u001b[0m\u001b[1;33m\u001b[0m\u001b[0m\n\u001b[0;32m      4\u001b[0m \u001b[0mobs\u001b[0m \u001b[1;33m=\u001b[0m \u001b[0mnp\u001b[0m\u001b[1;33m.\u001b[0m\u001b[0marray\u001b[0m\u001b[1;33m(\u001b[0m\u001b[1;34m\"chi.csv\"\u001b[0m\u001b[1;33m)\u001b[0m\u001b[1;33m\u001b[0m\u001b[1;33m\u001b[0m\u001b[0m\n\u001b[1;32m----> 5\u001b[1;33m \u001b[0mchi2_contingency\u001b[0m\u001b[1;33m(\u001b[0m\u001b[0mobs\u001b[0m\u001b[1;33m)\u001b[0m\u001b[1;33m\u001b[0m\u001b[1;33m\u001b[0m\u001b[0m\n\u001b[0m\u001b[0;32m      6\u001b[0m \u001b[1;33m\u001b[0m\u001b[0m\n\u001b[0;32m      7\u001b[0m \u001b[1;31m## https://www.kaggle.com/jfeng1023/beginner-data-challenge-chi-square-test\u001b[0m\u001b[1;33m\u001b[0m\u001b[1;33m\u001b[0m\u001b[1;33m\u001b[0m\u001b[0m\n",
      "\u001b[1;32m~\\anaconda3\\lib\\site-packages\\scipy\\stats\\contingency.py\u001b[0m in \u001b[0;36mchi2_contingency\u001b[1;34m(observed, correction, lambda_)\u001b[0m\n\u001b[0;32m    240\u001b[0m     \"\"\"\n\u001b[0;32m    241\u001b[0m     \u001b[0mobserved\u001b[0m \u001b[1;33m=\u001b[0m \u001b[0mnp\u001b[0m\u001b[1;33m.\u001b[0m\u001b[0masarray\u001b[0m\u001b[1;33m(\u001b[0m\u001b[0mobserved\u001b[0m\u001b[1;33m)\u001b[0m\u001b[1;33m\u001b[0m\u001b[1;33m\u001b[0m\u001b[0m\n\u001b[1;32m--> 242\u001b[1;33m     \u001b[1;32mif\u001b[0m \u001b[0mnp\u001b[0m\u001b[1;33m.\u001b[0m\u001b[0many\u001b[0m\u001b[1;33m(\u001b[0m\u001b[0mobserved\u001b[0m \u001b[1;33m<\u001b[0m \u001b[1;36m0\u001b[0m\u001b[1;33m)\u001b[0m\u001b[1;33m:\u001b[0m\u001b[1;33m\u001b[0m\u001b[1;33m\u001b[0m\u001b[0m\n\u001b[0m\u001b[0;32m    243\u001b[0m         \u001b[1;32mraise\u001b[0m \u001b[0mValueError\u001b[0m\u001b[1;33m(\u001b[0m\u001b[1;34m\"All values in `observed` must be nonnegative.\"\u001b[0m\u001b[1;33m)\u001b[0m\u001b[1;33m\u001b[0m\u001b[1;33m\u001b[0m\u001b[0m\n\u001b[0;32m    244\u001b[0m     \u001b[1;32mif\u001b[0m \u001b[0mobserved\u001b[0m\u001b[1;33m.\u001b[0m\u001b[0msize\u001b[0m \u001b[1;33m==\u001b[0m \u001b[1;36m0\u001b[0m\u001b[1;33m:\u001b[0m\u001b[1;33m\u001b[0m\u001b[1;33m\u001b[0m\u001b[0m\n",
      "\u001b[1;31mTypeError\u001b[0m: '<' not supported between instances of 'numpy.ndarray' and 'int'"
     ]
    }
   ],
   "source": [
    "pd.read_csv(\"chi.csv\")\n",
    "\n",
    "from scipy.stats import chi2_contingency\n",
    "obs = np.array(\"chi.csv\")\n",
    "chi2_contingency(obs)\n",
    "\n",
    "## https://www.kaggle.com/jfeng1023/beginner-data-challenge-chi-square-test\n"
   ]
  },
  {
   "cell_type": "code",
   "execution_count": 18,
   "metadata": {},
   "outputs": [
    {
     "data": {
      "text/plain": [
       "1.8086220862906192e-07"
      ]
     },
     "execution_count": 18,
     "metadata": {},
     "output_type": "execute_result"
    }
   ],
   "source": [
    "# https://reneshbedre.github.io/blog/chisq.html\n",
    "# https://stackoverflow.com/questions/11725115/p-value-from-chi-sq-test-statistic-in-python\n",
    "\n",
    "from scipy.stats.distributions import chi2\n",
    "chi2.sf(24.6, 0.5)"
   ]
  },
  {
   "cell_type": "markdown",
   "metadata": {},
   "source": [
    "##### Automated calculator for chi square\n",
    "Calculate the chi square test output of 24.6\n",
    "https://www.socscistatistics.com/tests/chisquare2/default2.aspx\n",
    "Found a website allowing to manually enter the info for the site to calculate it\n",
    "The calculation was correct as per the task information\n",
    "\n",
    "![Chi-square calculator](sample_p.PNG)\n",
    "\n"
   ]
  },
  {
   "cell_type": "markdown",
   "metadata": {},
   "source": [
    "### Conclusion for Task 2: Chi square test\n",
    "\n",
    "I found this task tough in relation to locating information online for assisting with trying to use the provided table of data for the task.\n",
    "Any info for feeding in data manually required the same number of entries in each array whereas we had 4 population areas and 3 different collar options. \n",
    "Also when trying to create a contingency table, the data is usually fed in manually based on the info I found during my research, versus reading in a csv file.\n",
    "I chose to read in the data via a CSV file which I created in Excel which allowed me to produce some output of data. \n",
    "<br>\n",
    "I believe that there is so much more to this task that could be explored in more depth if time contraints were not an issue. I believe that even with a small amount of data in the CSV file, the chi square test can produce quite alot of data and output that can be easily discussed and contrasted to compare the likelyhood of expectancies from the test. \n",
    "<br>\n",
    "The test itself is to determine whether there is <i> \"a statistically significant difference between the expected frequencies and the observed frequencies in one or more categories of a contingency table.\" <i> https://en.wikipedia.org/wiki/Chi-squared_test"
   ]
  },
  {
   "cell_type": "markdown",
   "metadata": {},
   "source": [
    "\n",
    "\n",
    "***\n",
    "***"
   ]
  },
  {
   "cell_type": "markdown",
   "metadata": {},
   "source": [
    "### Task 3: Difference between the Excel functions: STDEV.P and STDEV.S \n",
    "\n",
    "\"**The standard deviation is a measure that indicates how much the values of the set of data deviate (spread out) from the mean. To put it differently, the standard deviation shows whether your data is close to the mean or fluctuates a lot.**\" https://www.ablebits.com/office-addins-blog/2017/05/31/calculate-standard-deviation-excel/\n",
    "\n",
    "<ul>\n",
    "    <li> Based on the above explaination, the lower that the standard deviation is / the closer it is to 0, the more reliable the mean is. </li>\n",
    "    <li> Should the standard deviation equal to 0 exactly, this result would mean that every value in the dataset is the same as the mean of it. </li>\n",
    "    <li> The higher the standard deviation, the more fluctuation there is within the data, thus resulting in the mean being less accurate. </li>\n",
    "</ul>\n",
    "\n",
    "The STDEV.S function is used to calculate the standard deviation of a sample where only a subset of the data is included whereas the STDEV.P function is used to calculate the standard deviation of a population which includes all elements of a data set.\n",
    "\n",
    "https://corporatefinanceinstitute.com/resources/excel/functions/stdev-function/#:~:text=The%20STDEV%20Function%20is%20categorized,deviation%20based%20on%20a%20sample.\n",
    "\n",
    "#### STDEV.S Function\n",
    "\n",
    "The STDEV.S function was introduced by Excel 2010 as an improvement on its predecessor, the STDEV function. <br>\n",
    "STDEV (now an outdated function) was introduced in Excel 2003 and is the oldest Excel function used to estimate the standard deviation of a sample. \n",
    "\n",
    "\n",
    "Similar to STDEV.S, the STDEV.P function is the modern version of the STDEVP function that provides an improved accuracy. It is available in Excel 2010 and later versions.\n",
    "\n"
   ]
  },
  {
   "cell_type": "code",
   "execution_count": 12,
   "metadata": {},
   "outputs": [
    {
     "name": "stdout",
     "output_type": "stream",
     "text": [
      "      NAME  MOODLE RESULT                            .1\n",
      "0     Alex             71        Population SD  13.1053\n",
      "1     John             82            Sample SD  9.13053\n",
      "2     Mary             70                              \n",
      "3      Dan             62                              \n",
      "4    Ralph             78                              \n",
      "5      Bob             58                              \n",
      "6   Darren             49                              \n",
      "7    Sarah             76                              \n",
      "8    Ciara             82                              \n",
      "9     Mark             45                              \n",
      "10    Sean             51                              \n",
      "11  Sandra             50                              \n"
     ]
    }
   ],
   "source": [
    "# https://datatofish.com/read_excel/\n",
    "# Used the above link to import an excel file into my Jupyter notebook \n",
    "\n",
    "import pandas as pd\n",
    "\n",
    "df = pd.read_excel (r'C:\\Users\\valer\\Desktop\\Tasks.repo\\Machine_Learning_Tasks\\STDEV.xlsx')\n",
    "print (df)"
   ]
  },
  {
   "cell_type": "markdown",
   "metadata": {},
   "source": [
    "\n",
    "\n",
    "***\n",
    "***"
   ]
  },
  {
   "cell_type": "markdown",
   "metadata": {},
   "source": [
    "### Task 4: Use scikit-learn to apply k-means clustering to Fisher’s famous Iris data set\n",
    "\n",
    "\n"
   ]
  }
 ],
 "metadata": {
  "kernelspec": {
   "display_name": "Python 3",
   "language": "python",
   "name": "python3"
  },
  "language_info": {
   "codemirror_mode": {
    "name": "ipython",
    "version": 3
   },
   "file_extension": ".py",
   "mimetype": "text/x-python",
   "name": "python",
   "nbconvert_exporter": "python",
   "pygments_lexer": "ipython3",
   "version": "3.8.3"
  }
 },
 "nbformat": 4,
 "nbformat_minor": 4
}
