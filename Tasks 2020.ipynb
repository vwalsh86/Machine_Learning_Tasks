{
 "cells": [
  {
   "cell_type": "markdown",
   "metadata": {},
   "source": [
    "# Tasks\n"
   ]
  },
  {
   "cell_type": "markdown",
   "metadata": {},
   "source": [
    "These are my solutions for the Task assessments that have been set out as apart of my ongoing studies for H. Dip in Data Analytics at GMIT.\n",
    "<br><br>\n",
    "## Module: Machine Learning and Statistics"
   ]
  },
  {
   "cell_type": "markdown",
   "metadata": {},
   "source": [
    "***"
   ]
  },
  {
   "cell_type": "markdown",
   "metadata": {},
   "source": [
    "### Task: Calculate the square root of 2\n",
    "\n",
    "![Square Root image](2.jpg)\n",
    "###### Image source: https://www.google.com/url?sa=i&url=https%3A%2F%2Fmagoosh.com%2Fmath%2Fpowers-and-roots-square-roots%2F&psig=AOvVaw1RujAC9Ah-YssUhQ1NOzWe&ust=1602502592305000&source=images&cd=vfe&ved=0CA0QjhxqFwoTCNiVnrm5rOwCFQAAAAAdAAAAABAD \n",
    "\n",
    "### The aim of this assessment is to display an algorithm that has the ability to calculate the square root of a number without the use of the built-in functions, i.e. math.sqrt."
   ]
  },
  {
   "cell_type": "markdown",
   "metadata": {},
   "source": [
    "There is documentation on the Python documentation that explains in great detail, the process and options available of how to display the decimal output based on built in modules. - Python; 9.3 decimal - Decimal fixed point and floating point arithmetic; https://docs.python.org/2/library/decimal.html\n",
    "\n",
    "\n",
    "There are many different methods available to compute the square root of a number. I found alot of indepth information on these different options and methods, documented on on this link: https://en.wikipedia.org/wiki/Methods_of_computing_square_roots\n",
    "<br>\n",
    "\n",
    "<i>\"The method employed depends on what the result is to be used for (i.e. how accurate it has to be), how much effort one is willing to put into the procedure, and what tools are at hand.\"</i>\n",
    "<br>\n",
    "\n",
    "The method that you choose also depends on the way in which the calculations are going to be completed. Some methods can be completed mentally or via paper-and-pencil whereas others require indepth calculations by computation.\n",
    "<br>\n",
    "\n",
    "#### How float numbers are stored in memory on a computer?\n",
    "\n",
    "Having researched the aspect of how a floating point number is stored on a computer, the area is an extremely vast and complex one. \n",
    "<br>\n",
    "\n",
    "From my understanding of how the memory storage takes place, the bits are broken up into 3 areas which are used for the storage of: the sign, the mantissa and the expotent.\n",
    "<br>\n",
    "<i>\"The mantissa holds the main digits and the exponents defines where the decimal point should be placed. The same technique can be used for binary numbers.\" </i> https://en.wikibooks.org/wiki/A-level_Computing/AQA/Paper_2/Fundamentals_of_data_representation/Floating_point_numbers\n",
    "<br>\n",
    "\n",
    "The standard for Floating-Point arithmetic is set out by the IEEE (Institute of Electrical and Electronics Engineers).\n",
    "\n",
    "<i>\"The IEEE Standard for Floating-Point Arithmetic (IEEE 754) is a technical standard for floating-point arithmetic established in 1985\"</i> https://en.wikipedia.org/wiki/IEEE_754\n",
    "<br>\n",
    "Over time, there have been edits make to the standard with the latest one published and released in 2019.\n",
    "<br>\n",
    "\n",
    "<i>\"The current version, IEEE 754-2019, was published in July 2019.[1] It is a minor revision of the previous version, incorporating mainly clarifications, defect fixes and new recommended operations.\"</i> https://en.wikipedia.org/wiki/IEEE_754\n",
    "<br>\n",
    "\n",
    "In my research for this task, I have discovered that this is not the first time that this query has come about and found various threads on coding websites requesting assistance with this same task. Having read the following links, I can see that some codes are extremely indepth and of a high standard and some are in various other languages (e.g. C).\n",
    "<ol>\n",
    "    <li> Stackoverflow - Is there a way to create more decimal points on Python without importing a library/module?: https://stackoverflow.com/questions/64278117/is-there-a-way-to-create-more-decimal-points-on-python-without-importing-a-libra </li>\\\n",
    "    <li> Stackoverflor - How to compute the digits of an irrational number one by one?:\n",
    " https://stackoverflow.com/questions/60318091/how-to-compute-the-digits-of-an-irrational-number-one-by-one </li>\n",
    "    <li> Stack Exchange - Can anyone explain representation of float in memory?: \n",
    "https://softwareengineering.stackexchange.com/questions/215065/can-anyone-explain-representation-of-float-in-memory#:~:text=Floating%2Dpoint%20numbers%20are%20encoded,along%20with%20a%20sign%20bit).&text=Like%20signed%20integer%20types%2C%20the,are%20used%20for%20the%20exponent </li>\n",
    "</ol>\n",
    "\n",
    "I also researched this issue using various sites to gain a better understanding of the task:\n",
    "<ol>\n",
    "    <li> Keil.com; Floating-point Numbers; https://www.keil.com/support/man/docs/c51/c51_ap_floatingpt.htm#:~:text=Scalars%20of%20type%20float%20are,follows%20the%20IEEE%2D754%20standard.&text=The%20mantissa%20represents%20the%20actual,of%20the%20floating%2Dpoint%20number.&text=The%20actual%20value%20of%20the,of%20%E2%80%93127%20to%20%2B128 </li>\n",
    "    <li> Log2Base2.com; How float or double values are stored in memory? https://www.log2base2.com/storage/how-float-values-are-stored-in-memory.html </li>\n",
    "    <li> Floating Point Numbers; https://users.cs.fiu.edu/~downeyt/cop2400/float.htm </li>\n",
    "</ol>\n"
   ]
  },
  {
   "cell_type": "code",
   "execution_count": null,
   "metadata": {},
   "outputs": [],
   "source": [
    "# An example of how to compute the required task using a built in-function\n",
    "## https://stackoverflow.com/questions/4733173/how-can-i-show-an-irrational-number-to-100-decimal-places-in-python\n",
    "\n",
    "from decimal import *\n",
    "getcontext().prec = 100\n",
    "Decimal(2).sqrt()"
   ]
  },
  {
   "cell_type": "code",
   "execution_count": null,
   "metadata": {},
   "outputs": [],
   "source": [
    "## Another method of setting the decimal output using a built-in function \n",
    "## https://stackoverflow.com/questions/4733173/how-can-i-show-an-irrational-number-to-100-decimal-places-in-python\n",
    "\n",
    "import gmpy2\n",
    "ctx = gmpy2.get_context()\n",
    "ctx.precision = 100\n",
    "print(gmpy2.sqrt(2))\n",
    "\n",
    "## The output however does not output 100 decimal places as requested in the function\n",
    "## whn I chose to run this function again with 200 places it also displays less than requested. \n",
    "## This could be linked to - https://docs.python.org/3.4/tutorial/floatingpoint.html"
   ]
  },
  {
   "cell_type": "code",
   "execution_count": null,
   "metadata": {},
   "outputs": [],
   "source": [
    "# https://www.programiz.com/python-programming/examples/square-root\n",
    "# Python Program to calculate the square root\n",
    "\n",
    "# Note: change this value for a different result\n",
    "num = 2\n",
    "\n",
    "# To take the input from the user\n",
    "#num = float(input('Enter a number: '))\n",
    "\n",
    "num_sqrt = num ** 0.5\n",
    "print('The square root of %0.3f is %0.3f'%(num ,num_sqrt))"
   ]
  },
  {
   "cell_type": "code",
   "execution_count": null,
   "metadata": {},
   "outputs": [],
   "source": [
    "# https://www.tutorialspoint.com/How-to-perform-square-root-without-using-math-module-in-Python\n",
    "# Example of using an expotentiation operator to gain the initial request of this task\n",
    "\n",
    "2**(1/2)"
   ]
  },
  {
   "cell_type": "code",
   "execution_count": null,
   "metadata": {},
   "outputs": [],
   "source": [
    "# https://web.microsoftstream.com/video/4199579c-c3ed-48b7-9c5c-2911cefff50b\n",
    "# https://www.w3schools.com/python/python_functions.asp\n",
    "# https://www.programiz.com/python-programming/examples/square-root\n",
    "# https://www.tutorialspoint.com/How-to-perform-square-root-without-using-math-module-in-Python\n",
    "\n",
    "\n",
    "def sqrt2(n):\n",
    "    result = n * n\n",
    "    return result\n",
    "\n"
   ]
  },
  {
   "cell_type": "code",
   "execution_count": null,
   "metadata": {},
   "outputs": [],
   "source": [
    "# https://www.sololearn.com/Discuss/2228331/how-can-we-calculate-square-root-without-using-any-built-in-function-in-python\n",
    "# Example of a simple function to gain the initial request of this task (without the set decimal places)\n",
    "\n",
    "# square root\n",
    "a=int(input(\"enter no.\"))\n",
    "b=a**0.5\n",
    "print(b)"
   ]
  },
  {
   "cell_type": "markdown",
   "metadata": {},
   "source": [
    "I have made various attempts to create and set decimal places manually through the code I create rather than relying on an import function or module.\n",
    "I came across options that are not relevant in this instance:\n",
    "<ul>\n",
    "    <li> https://kodify.net/python/math/round-decimals/ </li>\n",
    "    <li> https://www.kite.com/python/answers/how-to-print-a-float-with-two-decimal-places-in-python#:~:text=Use%20str.,string%20to%20print%20the%20float. </li>\n",
    "</ul>"
   ]
  },
  {
   "cell_type": "code",
   "execution_count": null,
   "metadata": {},
   "outputs": [],
   "source": [
    "## Perfect example of the code required for this task \n",
    "## https://stackoverflow.com/questions/64278117/is-there-a-way-to-create-more-decimal-points-on-python-without-importing-a-libra\n",
    "\n",
    "x = 2 * 10 ** 200\n",
    "\n",
    "r = x\n",
    "\n",
    "def test_diffs(x, r):\n",
    "    d0 = abs(x - r**2)\n",
    "    dm = abs(x - (r-1)**2)\n",
    "    dp = abs(x - (r+1)**2)\n",
    "    minimised = d0 <= dm and d0 <= dp\n",
    "    below_min = dp < dm\n",
    "    return minimised, below_min\n",
    "\n",
    "while True:\n",
    "    oldr = r\n",
    "    r = (r + x // r) // 2\n",
    "\n",
    "    minimised, below_min = test_diffs(x, r)\n",
    "    if minimised:\n",
    "        break\n",
    "\n",
    "    if r == oldr:\n",
    "        if below_min:\n",
    "            r += 1\n",
    "        else:\n",
    "            r -= 1\n",
    "        minimised, _ = test_diffs(x, r)\n",
    "        if minimised:\n",
    "            break\n",
    "\n",
    "print(f'{r // 10**100}.{r % 10**100:0100d}')"
   ]
  },
  {
   "cell_type": "code",
   "execution_count": null,
   "metadata": {},
   "outputs": [],
   "source": []
  }
 ],
 "metadata": {
  "kernelspec": {
   "display_name": "Python 3",
   "language": "python",
   "name": "python3"
  },
  "language_info": {
   "codemirror_mode": {
    "name": "ipython",
    "version": 3
   },
   "file_extension": ".py",
   "mimetype": "text/x-python",
   "name": "python",
   "nbconvert_exporter": "python",
   "pygments_lexer": "ipython3",
   "version": "3.8.3"
  }
 },
 "nbformat": 4,
 "nbformat_minor": 4
}
